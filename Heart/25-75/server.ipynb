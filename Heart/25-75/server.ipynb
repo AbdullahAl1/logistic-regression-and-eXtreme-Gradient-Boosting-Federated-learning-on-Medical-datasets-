{
 "cells": [
  {
   "cell_type": "code",
   "execution_count": 2,
   "metadata": {},
   "outputs": [
    {
     "name": "stderr",
     "output_type": "stream",
     "text": [
      "INFO flwr 2024-05-12 17:04:14,256 | app.py:163 | Starting Flower server, config: ServerConfig(num_rounds=25, round_timeout=None)\n"
     ]
    },
    {
     "name": "stderr",
     "output_type": "stream",
     "text": [
      "INFO flwr 2024-05-12 17:04:14,276 | app.py:176 | Flower ECE: gRPC server running (25 rounds), SSL is disabled\n",
      "INFO flwr 2024-05-12 17:04:14,277 | server.py:89 | Initializing global parameters\n",
      "INFO flwr 2024-05-12 17:04:14,277 | server.py:276 | Requesting initial parameters from one random client\n",
      "INFO flwr 2024-05-12 17:04:17,734 | server.py:280 | Received initial parameters from one random client\n",
      "INFO flwr 2024-05-12 17:04:17,735 | server.py:91 | Evaluating initial parameters\n",
      "INFO flwr 2024-05-12 17:04:17,735 | server.py:104 | FL starting\n",
      "DEBUG flwr 2024-05-12 17:04:20,188 | server.py:222 | fit_round 1: strategy sampled 2 clients (out of 2)\n",
      "DEBUG flwr 2024-05-12 17:04:20,216 | server.py:236 | fit_round 1 received 2 results and 0 failures\n",
      "DEBUG flwr 2024-05-12 17:04:20,217 | server.py:173 | evaluate_round 1: strategy sampled 2 clients (out of 2)\n",
      "DEBUG flwr 2024-05-12 17:04:20,222 | server.py:187 | evaluate_round 1 received 2 results and 0 failures\n",
      "DEBUG flwr 2024-05-12 17:04:20,223 | server.py:222 | fit_round 2: strategy sampled 2 clients (out of 2)\n",
      "DEBUG flwr 2024-05-12 17:04:20,244 | server.py:236 | fit_round 2 received 2 results and 0 failures\n",
      "DEBUG flwr 2024-05-12 17:04:20,246 | server.py:173 | evaluate_round 2: strategy sampled 2 clients (out of 2)\n",
      "DEBUG flwr 2024-05-12 17:04:20,251 | server.py:187 | evaluate_round 2 received 2 results and 0 failures\n",
      "DEBUG flwr 2024-05-12 17:04:20,252 | server.py:222 | fit_round 3: strategy sampled 2 clients (out of 2)\n",
      "DEBUG flwr 2024-05-12 17:04:20,271 | server.py:236 | fit_round 3 received 2 results and 0 failures\n",
      "DEBUG flwr 2024-05-12 17:04:20,272 | server.py:173 | evaluate_round 3: strategy sampled 2 clients (out of 2)\n",
      "DEBUG flwr 2024-05-12 17:04:20,278 | server.py:187 | evaluate_round 3 received 2 results and 0 failures\n",
      "DEBUG flwr 2024-05-12 17:04:20,278 | server.py:222 | fit_round 4: strategy sampled 2 clients (out of 2)\n",
      "DEBUG flwr 2024-05-12 17:04:20,300 | server.py:236 | fit_round 4 received 2 results and 0 failures\n",
      "DEBUG flwr 2024-05-12 17:04:20,302 | server.py:173 | evaluate_round 4: strategy sampled 2 clients (out of 2)\n",
      "DEBUG flwr 2024-05-12 17:04:20,308 | server.py:187 | evaluate_round 4 received 2 results and 0 failures\n",
      "DEBUG flwr 2024-05-12 17:04:20,309 | server.py:222 | fit_round 5: strategy sampled 2 clients (out of 2)\n",
      "DEBUG flwr 2024-05-12 17:04:20,328 | server.py:236 | fit_round 5 received 2 results and 0 failures\n",
      "DEBUG flwr 2024-05-12 17:04:20,329 | server.py:173 | evaluate_round 5: strategy sampled 2 clients (out of 2)\n",
      "DEBUG flwr 2024-05-12 17:04:20,335 | server.py:187 | evaluate_round 5 received 2 results and 0 failures\n",
      "DEBUG flwr 2024-05-12 17:04:20,336 | server.py:222 | fit_round 6: strategy sampled 2 clients (out of 2)\n",
      "DEBUG flwr 2024-05-12 17:04:20,367 | server.py:236 | fit_round 6 received 2 results and 0 failures\n",
      "DEBUG flwr 2024-05-12 17:04:20,369 | server.py:173 | evaluate_round 6: strategy sampled 2 clients (out of 2)\n",
      "DEBUG flwr 2024-05-12 17:04:20,375 | server.py:187 | evaluate_round 6 received 2 results and 0 failures\n",
      "DEBUG flwr 2024-05-12 17:04:20,375 | server.py:222 | fit_round 7: strategy sampled 2 clients (out of 2)\n",
      "DEBUG flwr 2024-05-12 17:04:20,397 | server.py:236 | fit_round 7 received 2 results and 0 failures\n"
     ]
    },
    {
     "name": "stdout",
     "output_type": "stream",
     "text": [
      "[(204, {'train_accuracy': 0.8823529411764706}), (615, {'train_accuracy': 0.8390243902439024})]\n",
      "[(52, {'test_accuracy': 0.9230769230769231}), (154, {'test_accuracy': 0.8376623376623377})]\n",
      "[(615, {'train_accuracy': 0.8390243902439024}), (204, {'train_accuracy': 0.8921568627450981})]\n",
      "[(52, {'test_accuracy': 0.9230769230769231}), (154, {'test_accuracy': 0.8311688311688312})]\n",
      "[(615, {'train_accuracy': 0.8406504065040651}), (204, {'train_accuracy': 0.8872549019607843})]\n",
      "[(154, {'test_accuracy': 0.8311688311688312}), (52, {'test_accuracy': 0.9230769230769231})]\n",
      "[(204, {'train_accuracy': 0.8872549019607843}), (615, {'train_accuracy': 0.8406504065040651})]\n",
      "[(154, {'test_accuracy': 0.8311688311688312}), (52, {'test_accuracy': 0.9230769230769231})]\n",
      "[(615, {'train_accuracy': 0.8406504065040651}), (204, {'train_accuracy': 0.8872549019607843})]\n",
      "[(154, {'test_accuracy': 0.8311688311688312}), (52, {'test_accuracy': 0.9230769230769231})]\n",
      "[(204, {'train_accuracy': 0.8823529411764706}), (615, {'train_accuracy': 0.8390243902439024})]\n",
      "[(154, {'test_accuracy': 0.8311688311688312}), (52, {'test_accuracy': 0.9230769230769231})]\n"
     ]
    },
    {
     "name": "stderr",
     "output_type": "stream",
     "text": [
      "DEBUG flwr 2024-05-12 17:04:20,399 | server.py:173 | evaluate_round 7: strategy sampled 2 clients (out of 2)\n",
      "DEBUG flwr 2024-05-12 17:04:20,404 | server.py:187 | evaluate_round 7 received 2 results and 0 failures\n",
      "DEBUG flwr 2024-05-12 17:04:20,405 | server.py:222 | fit_round 8: strategy sampled 2 clients (out of 2)\n",
      "DEBUG flwr 2024-05-12 17:04:20,421 | server.py:236 | fit_round 8 received 2 results and 0 failures\n",
      "DEBUG flwr 2024-05-12 17:04:20,423 | server.py:173 | evaluate_round 8: strategy sampled 2 clients (out of 2)\n",
      "DEBUG flwr 2024-05-12 17:04:20,428 | server.py:187 | evaluate_round 8 received 2 results and 0 failures\n",
      "DEBUG flwr 2024-05-12 17:04:20,429 | server.py:222 | fit_round 9: strategy sampled 2 clients (out of 2)\n",
      "DEBUG flwr 2024-05-12 17:04:20,456 | server.py:236 | fit_round 9 received 2 results and 0 failures\n",
      "DEBUG flwr 2024-05-12 17:04:20,457 | server.py:173 | evaluate_round 9: strategy sampled 2 clients (out of 2)\n",
      "DEBUG flwr 2024-05-12 17:04:20,463 | server.py:187 | evaluate_round 9 received 2 results and 0 failures\n",
      "DEBUG flwr 2024-05-12 17:04:20,463 | server.py:222 | fit_round 10: strategy sampled 2 clients (out of 2)\n",
      "DEBUG flwr 2024-05-12 17:04:20,488 | server.py:236 | fit_round 10 received 2 results and 0 failures\n",
      "DEBUG flwr 2024-05-12 17:04:20,490 | server.py:173 | evaluate_round 10: strategy sampled 2 clients (out of 2)\n",
      "DEBUG flwr 2024-05-12 17:04:20,496 | server.py:187 | evaluate_round 10 received 2 results and 0 failures\n",
      "DEBUG flwr 2024-05-12 17:04:20,496 | server.py:222 | fit_round 11: strategy sampled 2 clients (out of 2)\n",
      "DEBUG flwr 2024-05-12 17:04:20,518 | server.py:236 | fit_round 11 received 2 results and 0 failures\n",
      "DEBUG flwr 2024-05-12 17:04:20,520 | server.py:173 | evaluate_round 11: strategy sampled 2 clients (out of 2)\n",
      "DEBUG flwr 2024-05-12 17:04:20,526 | server.py:187 | evaluate_round 11 received 2 results and 0 failures\n",
      "DEBUG flwr 2024-05-12 17:04:20,526 | server.py:222 | fit_round 12: strategy sampled 2 clients (out of 2)\n",
      "DEBUG flwr 2024-05-12 17:04:20,555 | server.py:236 | fit_round 12 received 2 results and 0 failures\n",
      "DEBUG flwr 2024-05-12 17:04:20,556 | server.py:173 | evaluate_round 12: strategy sampled 2 clients (out of 2)\n",
      "DEBUG flwr 2024-05-12 17:04:20,561 | server.py:187 | evaluate_round 12 received 2 results and 0 failures\n",
      "DEBUG flwr 2024-05-12 17:04:20,562 | server.py:222 | fit_round 13: strategy sampled 2 clients (out of 2)\n",
      "DEBUG flwr 2024-05-12 17:04:20,595 | server.py:236 | fit_round 13 received 2 results and 0 failures\n"
     ]
    },
    {
     "name": "stdout",
     "output_type": "stream",
     "text": [
      "[(615, {'train_accuracy': 0.8422764227642277}), (204, {'train_accuracy': 0.8872549019607843})]\n",
      "[(52, {'test_accuracy': 0.9230769230769231}), (154, {'test_accuracy': 0.8311688311688312})]\n",
      "[(204, {'train_accuracy': 0.8823529411764706}), (615, {'train_accuracy': 0.8422764227642277})]\n",
      "[(154, {'test_accuracy': 0.8311688311688312}), (52, {'test_accuracy': 0.9230769230769231})]\n",
      "[(204, {'train_accuracy': 0.8823529411764706}), (615, {'train_accuracy': 0.8390243902439024})]\n",
      "[(52, {'test_accuracy': 0.9230769230769231}), (154, {'test_accuracy': 0.8311688311688312})]\n",
      "[(615, {'train_accuracy': 0.8390243902439024}), (204, {'train_accuracy': 0.8823529411764706})]\n",
      "[(52, {'test_accuracy': 0.9230769230769231}), (154, {'test_accuracy': 0.8311688311688312})]\n",
      "[(204, {'train_accuracy': 0.8872549019607843}), (615, {'train_accuracy': 0.8390243902439024})]\n",
      "[(154, {'test_accuracy': 0.8311688311688312}), (52, {'test_accuracy': 0.9230769230769231})]\n",
      "[(615, {'train_accuracy': 0.8390243902439024}), (204, {'train_accuracy': 0.8823529411764706})]\n",
      "[(52, {'test_accuracy': 0.9230769230769231}), (154, {'test_accuracy': 0.8311688311688312})]\n"
     ]
    },
    {
     "name": "stderr",
     "output_type": "stream",
     "text": [
      "DEBUG flwr 2024-05-12 17:04:20,596 | server.py:173 | evaluate_round 13: strategy sampled 2 clients (out of 2)\n",
      "DEBUG flwr 2024-05-12 17:04:20,601 | server.py:187 | evaluate_round 13 received 2 results and 0 failures\n",
      "DEBUG flwr 2024-05-12 17:04:20,601 | server.py:222 | fit_round 14: strategy sampled 2 clients (out of 2)\n",
      "DEBUG flwr 2024-05-12 17:04:20,624 | server.py:236 | fit_round 14 received 2 results and 0 failures\n",
      "DEBUG flwr 2024-05-12 17:04:20,626 | server.py:173 | evaluate_round 14: strategy sampled 2 clients (out of 2)\n",
      "DEBUG flwr 2024-05-12 17:04:20,631 | server.py:187 | evaluate_round 14 received 2 results and 0 failures\n",
      "DEBUG flwr 2024-05-12 17:04:20,632 | server.py:222 | fit_round 15: strategy sampled 2 clients (out of 2)\n",
      "DEBUG flwr 2024-05-12 17:04:20,650 | server.py:236 | fit_round 15 received 2 results and 0 failures\n",
      "DEBUG flwr 2024-05-12 17:04:20,652 | server.py:173 | evaluate_round 15: strategy sampled 2 clients (out of 2)\n",
      "DEBUG flwr 2024-05-12 17:04:20,657 | server.py:187 | evaluate_round 15 received 2 results and 0 failures\n",
      "DEBUG flwr 2024-05-12 17:04:20,658 | server.py:222 | fit_round 16: strategy sampled 2 clients (out of 2)\n",
      "DEBUG flwr 2024-05-12 17:04:20,676 | server.py:236 | fit_round 16 received 2 results and 0 failures\n",
      "DEBUG flwr 2024-05-12 17:04:20,677 | server.py:173 | evaluate_round 16: strategy sampled 2 clients (out of 2)\n",
      "DEBUG flwr 2024-05-12 17:04:20,682 | server.py:187 | evaluate_round 16 received 2 results and 0 failures\n",
      "DEBUG flwr 2024-05-12 17:04:20,683 | server.py:222 | fit_round 17: strategy sampled 2 clients (out of 2)\n",
      "DEBUG flwr 2024-05-12 17:04:20,711 | server.py:236 | fit_round 17 received 2 results and 0 failures\n",
      "DEBUG flwr 2024-05-12 17:04:20,713 | server.py:173 | evaluate_round 17: strategy sampled 2 clients (out of 2)\n",
      "DEBUG flwr 2024-05-12 17:04:20,720 | server.py:187 | evaluate_round 17 received 2 results and 0 failures\n",
      "DEBUG flwr 2024-05-12 17:04:20,721 | server.py:222 | fit_round 18: strategy sampled 2 clients (out of 2)\n",
      "DEBUG flwr 2024-05-12 17:04:20,743 | server.py:236 | fit_round 18 received 2 results and 0 failures\n",
      "DEBUG flwr 2024-05-12 17:04:20,746 | server.py:173 | evaluate_round 18: strategy sampled 2 clients (out of 2)\n",
      "DEBUG flwr 2024-05-12 17:04:20,752 | server.py:187 | evaluate_round 18 received 2 results and 0 failures\n",
      "DEBUG flwr 2024-05-12 17:04:20,753 | server.py:222 | fit_round 19: strategy sampled 2 clients (out of 2)\n",
      "DEBUG flwr 2024-05-12 17:04:20,774 | server.py:236 | fit_round 19 received 2 results and 0 failures\n",
      "DEBUG flwr 2024-05-12 17:04:20,775 | server.py:173 | evaluate_round 19: strategy sampled 2 clients (out of 2)\n",
      "DEBUG flwr 2024-05-12 17:04:20,781 | server.py:187 | evaluate_round 19 received 2 results and 0 failures\n",
      "DEBUG flwr 2024-05-12 17:04:20,781 | server.py:222 | fit_round 20: strategy sampled 2 clients (out of 2)\n",
      "DEBUG flwr 2024-05-12 17:04:20,804 | server.py:236 | fit_round 20 received 2 results and 0 failures\n"
     ]
    },
    {
     "name": "stdout",
     "output_type": "stream",
     "text": [
      "[(615, {'train_accuracy': 0.8390243902439024}), (204, {'train_accuracy': 0.8921568627450981})]\n",
      "[(52, {'test_accuracy': 0.9230769230769231}), (154, {'test_accuracy': 0.8311688311688312})]\n",
      "[(615, {'train_accuracy': 0.8390243902439024}), (204, {'train_accuracy': 0.8872549019607843})]\n",
      "[(154, {'test_accuracy': 0.8311688311688312}), (52, {'test_accuracy': 0.9230769230769231})]\n",
      "[(204, {'train_accuracy': 0.8823529411764706}), (615, {'train_accuracy': 0.8439024390243902})]\n",
      "[(52, {'test_accuracy': 0.9230769230769231}), (154, {'test_accuracy': 0.8311688311688312})]\n",
      "[(615, {'train_accuracy': 0.8439024390243902}), (204, {'train_accuracy': 0.8872549019607843})]\n",
      "[(154, {'test_accuracy': 0.8311688311688312}), (52, {'test_accuracy': 0.9230769230769231})]\n",
      "[(204, {'train_accuracy': 0.8872549019607843}), (615, {'train_accuracy': 0.8390243902439024})]\n",
      "[(52, {'test_accuracy': 0.9230769230769231}), (154, {'test_accuracy': 0.8311688311688312})]\n",
      "[(615, {'train_accuracy': 0.8439024390243902}), (204, {'train_accuracy': 0.8823529411764706})]\n",
      "[(52, {'test_accuracy': 0.9230769230769231}), (154, {'test_accuracy': 0.8311688311688312})]\n",
      "[(615, {'train_accuracy': 0.8439024390243902}), (204, {'train_accuracy': 0.8872549019607843})]\n",
      "[(154, {'test_accuracy': 0.8311688311688312}), (52, {'test_accuracy': 0.9230769230769231})]\n"
     ]
    },
    {
     "name": "stderr",
     "output_type": "stream",
     "text": [
      "DEBUG flwr 2024-05-12 17:04:20,806 | server.py:173 | evaluate_round 20: strategy sampled 2 clients (out of 2)\n",
      "DEBUG flwr 2024-05-12 17:04:20,811 | server.py:187 | evaluate_round 20 received 2 results and 0 failures\n",
      "DEBUG flwr 2024-05-12 17:04:20,812 | server.py:222 | fit_round 21: strategy sampled 2 clients (out of 2)\n",
      "DEBUG flwr 2024-05-12 17:04:20,835 | server.py:236 | fit_round 21 received 2 results and 0 failures\n",
      "DEBUG flwr 2024-05-12 17:04:20,836 | server.py:173 | evaluate_round 21: strategy sampled 2 clients (out of 2)\n",
      "DEBUG flwr 2024-05-12 17:04:20,842 | server.py:187 | evaluate_round 21 received 2 results and 0 failures\n",
      "DEBUG flwr 2024-05-12 17:04:20,842 | server.py:222 | fit_round 22: strategy sampled 2 clients (out of 2)\n",
      "DEBUG flwr 2024-05-12 17:04:20,871 | server.py:236 | fit_round 22 received 2 results and 0 failures\n",
      "DEBUG flwr 2024-05-12 17:04:20,872 | server.py:173 | evaluate_round 22: strategy sampled 2 clients (out of 2)\n",
      "DEBUG flwr 2024-05-12 17:04:20,877 | server.py:187 | evaluate_round 22 received 2 results and 0 failures\n",
      "DEBUG flwr 2024-05-12 17:04:20,878 | server.py:222 | fit_round 23: strategy sampled 2 clients (out of 2)\n",
      "DEBUG flwr 2024-05-12 17:04:20,902 | server.py:236 | fit_round 23 received 2 results and 0 failures\n",
      "DEBUG flwr 2024-05-12 17:04:20,904 | server.py:173 | evaluate_round 23: strategy sampled 2 clients (out of 2)\n",
      "DEBUG flwr 2024-05-12 17:04:20,909 | server.py:187 | evaluate_round 23 received 2 results and 0 failures\n",
      "DEBUG flwr 2024-05-12 17:04:20,910 | server.py:222 | fit_round 24: strategy sampled 2 clients (out of 2)\n",
      "DEBUG flwr 2024-05-12 17:04:20,932 | server.py:236 | fit_round 24 received 2 results and 0 failures\n",
      "DEBUG flwr 2024-05-12 17:04:20,933 | server.py:173 | evaluate_round 24: strategy sampled 2 clients (out of 2)\n",
      "DEBUG flwr 2024-05-12 17:04:20,939 | server.py:187 | evaluate_round 24 received 2 results and 0 failures\n",
      "DEBUG flwr 2024-05-12 17:04:20,939 | server.py:222 | fit_round 25: strategy sampled 2 clients (out of 2)\n",
      "DEBUG flwr 2024-05-12 17:04:20,965 | server.py:236 | fit_round 25 received 2 results and 0 failures\n",
      "DEBUG flwr 2024-05-12 17:04:20,966 | server.py:173 | evaluate_round 25: strategy sampled 2 clients (out of 2)\n",
      "DEBUG flwr 2024-05-12 17:04:20,971 | server.py:187 | evaluate_round 25 received 2 results and 0 failures\n",
      "INFO flwr 2024-05-12 17:04:20,972 | server.py:153 | FL finished in 3.2363381000000118\n",
      "INFO flwr 2024-05-12 17:04:20,972 | app.py:226 | app_fit: losses_distributed [(1, 0.3529238052738523), (2, 0.3524834097010418), (3, 0.3524030429645649), (4, 0.35238818028598157), (5, 0.3520700338396054), (6, 0.352041307294253), (7, 0.35164697714222287), (8, 0.35161545872688293), (9, 0.3512342713990258), (10, 0.35148933153708006), (11, 0.35160192557908954), (12, 0.3514859054273772), (13, 0.35063789365361037), (14, 0.3511511524325436), (15, 0.35073177125847455), (16, 0.3508144978759358), (17, 0.3509881065308469), (18, 0.3510115077194658), (19, 0.3506749524074851), (20, 0.35069869328471065), (21, 0.35059570542816976), (22, 0.35036320535882004), (23, 0.3507446779788119), (24, 0.35057139425601774), (25, 0.3502435721818683)]\n",
      "INFO flwr 2024-05-12 17:04:20,972 | app.py:227 | app_fit: metrics_distributed_fit {'train_accuracy': [(1, 0.8498168498168498), (2, 0.8522588522588522), (3, 0.8522588522588522), (4, 0.8522588522588522), (5, 0.8522588522588522), (6, 0.8498168498168498), (7, 0.8534798534798534), (8, 0.8522588522588522), (9, 0.8498168498168498), (10, 0.8498168498168498), (11, 0.851037851037851), (12, 0.8498168498168498), (13, 0.8522588522588522), (14, 0.851037851037851), (15, 0.8534798534798534), (16, 0.8547008547008547), (17, 0.851037851037851), (18, 0.8534798534798534), (19, 0.8547008547008547), (20, 0.8534798534798534), (21, 0.8498168498168498), (22, 0.851037851037851), (23, 0.851037851037851), (24, 0.851037851037851), (25, 0.851037851037851)]}\n",
      "INFO flwr 2024-05-12 17:04:20,973 | app.py:228 | app_fit: metrics_distributed {'test_accuracy': [(1, 0.8592233009708737), (2, 0.8543689320388349), (3, 0.8543689320388349), (4, 0.8543689320388349), (5, 0.8543689320388349), (6, 0.8543689320388349), (7, 0.8543689320388349), (8, 0.8543689320388349), (9, 0.8543689320388349), (10, 0.8543689320388349), (11, 0.8543689320388349), (12, 0.8543689320388349), (13, 0.8543689320388349), (14, 0.8543689320388349), (15, 0.8543689320388349), (16, 0.8543689320388349), (17, 0.8543689320388349), (18, 0.8543689320388349), (19, 0.8543689320388349), (20, 0.8543689320388349), (21, 0.8543689320388349), (22, 0.8543689320388349), (23, 0.8543689320388349), (24, 0.8543689320388349), (25, 0.8543689320388349)]}\n",
      "INFO flwr 2024-05-12 17:04:20,973 | app.py:229 | app_fit: losses_centralized []\n",
      "INFO flwr 2024-05-12 17:04:20,973 | app.py:230 | app_fit: metrics_centralized {}\n"
     ]
    },
    {
     "name": "stdout",
     "output_type": "stream",
     "text": [
      "[(204, {'train_accuracy': 0.8823529411764706}), (615, {'train_accuracy': 0.8439024390243902})]\n",
      "[(52, {'test_accuracy': 0.9230769230769231}), (154, {'test_accuracy': 0.8311688311688312})]\n",
      "[(204, {'train_accuracy': 0.8823529411764706}), (615, {'train_accuracy': 0.8390243902439024})]\n",
      "[(154, {'test_accuracy': 0.8311688311688312}), (52, {'test_accuracy': 0.9230769230769231})]\n",
      "[(204, {'train_accuracy': 0.8823529411764706}), (615, {'train_accuracy': 0.8406504065040651})]\n",
      "[(52, {'test_accuracy': 0.9230769230769231}), (154, {'test_accuracy': 0.8311688311688312})]\n",
      "[(615, {'train_accuracy': 0.8406504065040651}), (204, {'train_accuracy': 0.8823529411764706})]\n",
      "[(52, {'test_accuracy': 0.9230769230769231}), (154, {'test_accuracy': 0.8311688311688312})]\n",
      "[(615, {'train_accuracy': 0.8406504065040651}), (204, {'train_accuracy': 0.8823529411764706})]\n",
      "[(52, {'test_accuracy': 0.9230769230769231}), (154, {'test_accuracy': 0.8311688311688312})]\n",
      "[(204, {'train_accuracy': 0.8823529411764706}), (615, {'train_accuracy': 0.8406504065040651})]\n",
      "[(154, {'test_accuracy': 0.8311688311688312}), (52, {'test_accuracy': 0.9230769230769231})]\n"
     ]
    }
   ],
   "source": [
    "import flwr as fl\n",
    "import utils\n",
    "from sklearn.linear_model import LogisticRegression\n",
    "\n",
    "\n",
    "# Start Flower server for five rounds of federated learning\n",
    "if __name__ == \"__main__\":\n",
    "    model = LogisticRegression()\n",
    "    utils.set_initial_params(model, n_classes=2, n_features=30)\n",
    "    strategy = fl.server.strategy.FedAvg(\n",
    "        min_available_clients=2,\n",
    "        fit_metrics_aggregation_fn=utils.weighted_average,\n",
    "        evaluate_metrics_aggregation_fn=utils.weighted_average,\n",
    "    )\n",
    "    fl.server.start_server(\n",
    "        server_address=\"127.0.0.1:8080\",\n",
    "        strategy=strategy,\n",
    "        config=fl.server.ServerConfig(num_rounds=25),\n",
    "    )"
   ]
  }
 ],
 "metadata": {
  "kernelspec": {
   "display_name": "tf",
   "language": "python",
   "name": "python3"
  },
  "language_info": {
   "codemirror_mode": {
    "name": "ipython",
    "version": 3
   },
   "file_extension": ".py",
   "mimetype": "text/x-python",
   "name": "python",
   "nbconvert_exporter": "python",
   "pygments_lexer": "ipython3",
   "version": "3.9.17"
  }
 },
 "nbformat": 4,
 "nbformat_minor": 2
}
