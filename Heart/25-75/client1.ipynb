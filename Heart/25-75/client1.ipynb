{
 "cells": [
  {
   "cell_type": "code",
   "execution_count": 1,
   "metadata": {},
   "outputs": [],
   "source": [
    "import pandas as pd\n",
    "import numpy as np"
   ]
  },
  {
   "cell_type": "code",
   "execution_count": 2,
   "metadata": {},
   "outputs": [],
   "source": [
    "df = pd.read_csv('./cl1.csv')"
   ]
  },
  {
   "cell_type": "code",
   "execution_count": 3,
   "metadata": {},
   "outputs": [
    {
     "name": "stdout",
     "output_type": "stream",
     "text": [
      "Shape of training set: (204, 14)\n",
      "Shape of test set: (52, 14)\n"
     ]
    }
   ],
   "source": [
    "from sklearn.model_selection import train_test_split\n",
    "\n",
    "# splitting data\n",
    "X_train, X_test, y_train, y_test = train_test_split(\n",
    "                df.drop('target', axis=1),\n",
    "                df['target'],\n",
    "                test_size=0.2,\n",
    "                random_state=42)\n",
    "\n",
    "print(\"Shape of training set:\", X_train.shape)\n",
    "print(\"Shape of test set:\", X_test.shape)"
   ]
  },
  {
   "cell_type": "code",
   "execution_count": 4,
   "metadata": {},
   "outputs": [
    {
     "name": "stderr",
     "output_type": "stream",
     "text": [
      "c:\\Users\\fafaf\\anaconda3\\envs\\tf\\lib\\site-packages\\sklearn\\linear_model\\_logistic.py:444: ConvergenceWarning: lbfgs failed to converge (status=1):\n",
      "STOP: TOTAL NO. of ITERATIONS REACHED LIMIT.\n",
      "\n",
      "Increase the number of iterations (max_iter) or scale the data as shown in:\n",
      "    https://scikit-learn.org/stable/modules/preprocessing.html\n",
      "Please also refer to the documentation for alternative solver options:\n",
      "    https://scikit-learn.org/stable/modules/linear_model.html#logistic-regression\n",
      "  n_iter_i = _check_optimize_result(\n"
     ]
    }
   ],
   "source": [
    "from sklearn.linear_model import LogisticRegression\n",
    "\n",
    "logreg = LogisticRegression()\n",
    "logreg.fit(X_train, y_train)\n",
    "predictions1 = logreg.predict(X_test)"
   ]
  },
  {
   "cell_type": "code",
   "execution_count": 5,
   "metadata": {},
   "outputs": [
    {
     "name": "stdout",
     "output_type": "stream",
     "text": [
      "Confusion Matrix: \n",
      " [[19  2]\n",
      " [ 3 28]]\n",
      "\n",
      "\n",
      "              precision    recall  f1-score   support\n",
      "\n",
      "           0       0.86      0.90      0.88        21\n",
      "           1       0.93      0.90      0.92        31\n",
      "\n",
      "    accuracy                           0.90        52\n",
      "   macro avg       0.90      0.90      0.90        52\n",
      "weighted avg       0.91      0.90      0.90        52\n",
      "\n"
     ]
    }
   ],
   "source": [
    "from sklearn.metrics import confusion_matrix, classification_report\n",
    "\n",
    "print(\"Confusion Matrix: \\n\", confusion_matrix(y_test, predictions1))\n",
    "print('\\n')\n",
    "print(classification_report(y_test, predictions1))"
   ]
  },
  {
   "cell_type": "code",
   "execution_count": 8,
   "metadata": {},
   "outputs": [],
   "source": [
    "model = LogisticRegression(warm_start=True,penalty='l2')"
   ]
  },
  {
   "cell_type": "code",
   "execution_count": 9,
   "metadata": {},
   "outputs": [],
   "source": [
    "import utils\n",
    "utils.set_initial_params(model, n_features=X_train.shape[1], n_classes=2)"
   ]
  },
  {
   "cell_type": "code",
   "execution_count": 12,
   "metadata": {},
   "outputs": [
    {
     "name": "stderr",
     "output_type": "stream",
     "text": [
      "INFO flwr 2024-05-12 17:04:17,720 | grpc.py:52 | Opened insecure gRPC connection (no certificates were passed)\n",
      "DEBUG flwr 2024-05-12 17:04:17,730 | connection.py:55 | ChannelConnectivity.IDLE\n",
      "DEBUG flwr 2024-05-12 17:04:17,732 | connection.py:55 | ChannelConnectivity.READY\n",
      "DEBUG flwr 2024-05-12 17:04:24,005 | connection.py:220 | gRPC channel closed\n",
      "INFO flwr 2024-05-12 17:04:24,006 | app.py:398 | Disconnect and shut down\n"
     ]
    }
   ],
   "source": [
    "import flwr as fl\n",
    "import warnings\n",
    "from sklearn.metrics import log_loss\n",
    "\n",
    "class IrisClient(fl.client.NumPyClient):\n",
    "        def get_parameters(self, config):  # type: ignore\n",
    "            return utils.get_model_parameters(model)\n",
    "\n",
    "        def fit(self, parameters, config):  # type: ignore\n",
    "            utils.set_model_params(model, parameters)\n",
    "            # Ignore convergence failure due to low local epochs\n",
    "            with warnings.catch_warnings():\n",
    "                warnings.simplefilter(\"ignore\")\n",
    "                model.fit(X_train, y_train)\n",
    "            accuracy = model.score(X_train, y_train)\n",
    "            return (\n",
    "                utils.get_model_parameters(model),\n",
    "                len(X_train),\n",
    "                {\"train_accuracy\": accuracy},\n",
    "            )\n",
    "\n",
    "        def evaluate(self, parameters, config):  # type: ignore\n",
    "            utils.set_model_params(model, parameters)\n",
    "            loss = log_loss(y_test, model.predict_proba(X_test))\n",
    "            accuracy = model.score(X_test, y_test)\n",
    "            return loss, len(X_test), {\"test_accuracy\": accuracy}\n",
    "\n",
    "    # Start Flower client\n",
    "fl.client.start_client(\n",
    "    server_address=\"127.0.0.1:8080\", client=IrisClient().to_client()\n",
    ")"
   ]
  },
  {
   "cell_type": "code",
   "execution_count": 13,
   "metadata": {},
   "outputs": [
    {
     "name": "stdout",
     "output_type": "stream",
     "text": [
      "              precision    recall  f1-score   support\n",
      "\n",
      "           0       0.95      0.86      0.90        21\n",
      "           1       0.91      0.97      0.94        31\n",
      "\n",
      "    accuracy                           0.92        52\n",
      "   macro avg       0.93      0.91      0.92        52\n",
      "weighted avg       0.92      0.92      0.92        52\n",
      "\n"
     ]
    }
   ],
   "source": [
    "predictions1 = model.predict(X_test)\n",
    "print(classification_report(y_test, predictions1))"
   ]
  },
  {
   "cell_type": "code",
   "execution_count": 14,
   "metadata": {},
   "outputs": [
    {
     "name": "stdout",
     "output_type": "stream",
     "text": [
      "Confusion Matrix: \n",
      " [[18  3]\n",
      " [ 1 30]]\n"
     ]
    }
   ],
   "source": [
    "print(\"Confusion Matrix: \\n\", confusion_matrix(y_test, predictions1))"
   ]
  }
 ],
 "metadata": {
  "kernelspec": {
   "display_name": "tf",
   "language": "python",
   "name": "python3"
  },
  "language_info": {
   "codemirror_mode": {
    "name": "ipython",
    "version": 3
   },
   "file_extension": ".py",
   "mimetype": "text/x-python",
   "name": "python",
   "nbconvert_exporter": "python",
   "pygments_lexer": "ipython3",
   "version": "3.9.17"
  }
 },
 "nbformat": 4,
 "nbformat_minor": 2
}
