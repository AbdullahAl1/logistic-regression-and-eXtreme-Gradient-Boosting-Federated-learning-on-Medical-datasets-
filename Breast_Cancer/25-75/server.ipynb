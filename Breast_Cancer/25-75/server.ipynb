{
 "cells": [
  {
   "cell_type": "code",
   "execution_count": 2,
   "metadata": {},
   "outputs": [
    {
     "name": "stderr",
     "output_type": "stream",
     "text": [
      "INFO flwr 2024-05-01 23:29:15,573 | app.py:163 | Starting Flower server, config: ServerConfig(num_rounds=25, round_timeout=None)\n",
      "INFO flwr 2024-05-01 23:29:15,603 | app.py:176 | Flower ECE: gRPC server running (25 rounds), SSL is disabled\n",
      "INFO flwr 2024-05-01 23:29:15,604 | server.py:89 | Initializing global parameters\n",
      "INFO flwr 2024-05-01 23:29:15,604 | server.py:276 | Requesting initial parameters from one random client\n",
      "INFO flwr 2024-05-01 23:29:24,173 | server.py:280 | Received initial parameters from one random client\n",
      "INFO flwr 2024-05-01 23:29:24,174 | server.py:91 | Evaluating initial parameters\n",
      "INFO flwr 2024-05-01 23:29:24,174 | server.py:104 | FL starting\n",
      "DEBUG flwr 2024-05-01 23:29:26,393 | server.py:222 | fit_round 1: strategy sampled 2 clients (out of 2)\n",
      "DEBUG flwr 2024-05-01 23:29:26,435 | server.py:236 | fit_round 1 received 2 results and 0 failures\n",
      "DEBUG flwr 2024-05-01 23:29:26,437 | server.py:173 | evaluate_round 1: strategy sampled 2 clients (out of 2)\n",
      "DEBUG flwr 2024-05-01 23:29:26,443 | server.py:187 | evaluate_round 1 received 2 results and 0 failures\n",
      "DEBUG flwr 2024-05-01 23:29:26,443 | server.py:222 | fit_round 2: strategy sampled 2 clients (out of 2)\n",
      "DEBUG flwr 2024-05-01 23:29:26,484 | server.py:236 | fit_round 2 received 2 results and 0 failures\n",
      "DEBUG flwr 2024-05-01 23:29:26,485 | server.py:173 | evaluate_round 2: strategy sampled 2 clients (out of 2)\n",
      "DEBUG flwr 2024-05-01 23:29:26,491 | server.py:187 | evaluate_round 2 received 2 results and 0 failures\n",
      "DEBUG flwr 2024-05-01 23:29:26,492 | server.py:222 | fit_round 3: strategy sampled 2 clients (out of 2)\n",
      "DEBUG flwr 2024-05-01 23:29:26,533 | server.py:236 | fit_round 3 received 2 results and 0 failures\n",
      "DEBUG flwr 2024-05-01 23:29:26,535 | server.py:173 | evaluate_round 3: strategy sampled 2 clients (out of 2)\n",
      "DEBUG flwr 2024-05-01 23:29:26,541 | server.py:187 | evaluate_round 3 received 2 results and 0 failures\n",
      "DEBUG flwr 2024-05-01 23:29:26,541 | server.py:222 | fit_round 4: strategy sampled 2 clients (out of 2)\n",
      "DEBUG flwr 2024-05-01 23:29:26,583 | server.py:236 | fit_round 4 received 2 results and 0 failures\n",
      "DEBUG flwr 2024-05-01 23:29:26,584 | server.py:173 | evaluate_round 4: strategy sampled 2 clients (out of 2)\n",
      "DEBUG flwr 2024-05-01 23:29:26,590 | server.py:187 | evaluate_round 4 received 2 results and 0 failures\n",
      "DEBUG flwr 2024-05-01 23:29:26,591 | server.py:222 | fit_round 5: strategy sampled 2 clients (out of 2)\n",
      "DEBUG flwr 2024-05-01 23:29:26,634 | server.py:236 | fit_round 5 received 2 results and 0 failures\n"
     ]
    },
    {
     "name": "stdout",
     "output_type": "stream",
     "text": [
      "[(339, {'train_accuracy': 0.9646017699115044}), (116, {'train_accuracy': 0.9568965517241379})]\n",
      "[(85, {'test_accuracy': 0.9294117647058824}), (29, {'test_accuracy': 1.0})]\n",
      "[(339, {'train_accuracy': 0.9705014749262537}), (116, {'train_accuracy': 0.9482758620689655})]\n",
      "[(85, {'test_accuracy': 0.9529411764705882}), (29, {'test_accuracy': 0.9655172413793104})]\n",
      "[(116, {'train_accuracy': 0.9568965517241379}), (339, {'train_accuracy': 0.9705014749262537})]\n",
      "[(85, {'test_accuracy': 0.9529411764705882}), (29, {'test_accuracy': 0.9655172413793104})]\n",
      "[(339, {'train_accuracy': 0.9734513274336283}), (116, {'train_accuracy': 0.9568965517241379})]\n",
      "[(29, {'test_accuracy': 0.9655172413793104}), (85, {'test_accuracy': 0.9529411764705882})]\n"
     ]
    },
    {
     "name": "stderr",
     "output_type": "stream",
     "text": [
      "DEBUG flwr 2024-05-01 23:29:26,635 | server.py:173 | evaluate_round 5: strategy sampled 2 clients (out of 2)\n",
      "DEBUG flwr 2024-05-01 23:29:26,641 | server.py:187 | evaluate_round 5 received 2 results and 0 failures\n",
      "DEBUG flwr 2024-05-01 23:29:26,642 | server.py:222 | fit_round 6: strategy sampled 2 clients (out of 2)\n",
      "DEBUG flwr 2024-05-01 23:29:26,783 | server.py:236 | fit_round 6 received 2 results and 0 failures\n",
      "DEBUG flwr 2024-05-01 23:29:26,784 | server.py:173 | evaluate_round 6: strategy sampled 2 clients (out of 2)\n",
      "DEBUG flwr 2024-05-01 23:29:26,791 | server.py:187 | evaluate_round 6 received 2 results and 0 failures\n",
      "DEBUG flwr 2024-05-01 23:29:26,791 | server.py:222 | fit_round 7: strategy sampled 2 clients (out of 2)\n"
     ]
    },
    {
     "name": "stdout",
     "output_type": "stream",
     "text": [
      "[(339, {'train_accuracy': 0.9705014749262537}), (116, {'train_accuracy': 0.9568965517241379})]\n",
      "[(29, {'test_accuracy': 0.9655172413793104}), (85, {'test_accuracy': 0.9529411764705882})]\n",
      "[(116, {'train_accuracy': 0.9568965517241379}), (339, {'train_accuracy': 0.9705014749262537})]\n",
      "[(85, {'test_accuracy': 0.9529411764705882}), (29, {'test_accuracy': 0.9655172413793104})]\n"
     ]
    },
    {
     "name": "stderr",
     "output_type": "stream",
     "text": [
      "DEBUG flwr 2024-05-01 23:29:26,898 | server.py:236 | fit_round 7 received 2 results and 0 failures\n",
      "DEBUG flwr 2024-05-01 23:29:26,900 | server.py:173 | evaluate_round 7: strategy sampled 2 clients (out of 2)\n",
      "DEBUG flwr 2024-05-01 23:29:26,906 | server.py:187 | evaluate_round 7 received 2 results and 0 failures\n",
      "DEBUG flwr 2024-05-01 23:29:26,906 | server.py:222 | fit_round 8: strategy sampled 2 clients (out of 2)\n",
      "DEBUG flwr 2024-05-01 23:29:26,948 | server.py:236 | fit_round 8 received 2 results and 0 failures\n",
      "DEBUG flwr 2024-05-01 23:29:26,949 | server.py:173 | evaluate_round 8: strategy sampled 2 clients (out of 2)\n",
      "DEBUG flwr 2024-05-01 23:29:26,955 | server.py:187 | evaluate_round 8 received 2 results and 0 failures\n",
      "DEBUG flwr 2024-05-01 23:29:26,955 | server.py:222 | fit_round 9: strategy sampled 2 clients (out of 2)\n",
      "DEBUG flwr 2024-05-01 23:29:26,997 | server.py:236 | fit_round 9 received 2 results and 0 failures\n",
      "DEBUG flwr 2024-05-01 23:29:26,999 | server.py:173 | evaluate_round 9: strategy sampled 2 clients (out of 2)\n",
      "DEBUG flwr 2024-05-01 23:29:27,005 | server.py:187 | evaluate_round 9 received 2 results and 0 failures\n",
      "DEBUG flwr 2024-05-01 23:29:27,005 | server.py:222 | fit_round 10: strategy sampled 2 clients (out of 2)\n",
      "DEBUG flwr 2024-05-01 23:29:27,051 | server.py:236 | fit_round 10 received 2 results and 0 failures\n",
      "DEBUG flwr 2024-05-01 23:29:27,053 | server.py:173 | evaluate_round 10: strategy sampled 2 clients (out of 2)\n",
      "DEBUG flwr 2024-05-01 23:29:27,059 | server.py:187 | evaluate_round 10 received 2 results and 0 failures\n",
      "DEBUG flwr 2024-05-01 23:29:27,060 | server.py:222 | fit_round 11: strategy sampled 2 clients (out of 2)\n",
      "DEBUG flwr 2024-05-01 23:29:27,104 | server.py:236 | fit_round 11 received 2 results and 0 failures\n"
     ]
    },
    {
     "name": "stdout",
     "output_type": "stream",
     "text": [
      "[(339, {'train_accuracy': 0.9734513274336283}), (116, {'train_accuracy': 0.9568965517241379})]\n",
      "[(29, {'test_accuracy': 0.9655172413793104}), (85, {'test_accuracy': 0.9529411764705882})]\n",
      "[(339, {'train_accuracy': 0.9734513274336283}), (116, {'train_accuracy': 0.9568965517241379})]\n",
      "[(29, {'test_accuracy': 0.9655172413793104}), (85, {'test_accuracy': 0.9529411764705882})]\n",
      "[(339, {'train_accuracy': 0.9734513274336283}), (116, {'train_accuracy': 0.9568965517241379})]\n",
      "[(29, {'test_accuracy': 0.9655172413793104}), (85, {'test_accuracy': 0.9529411764705882})]\n",
      "[(339, {'train_accuracy': 0.976401179941003}), (116, {'train_accuracy': 0.9568965517241379})]\n",
      "[(85, {'test_accuracy': 0.9529411764705882}), (29, {'test_accuracy': 0.9655172413793104})]\n"
     ]
    },
    {
     "name": "stderr",
     "output_type": "stream",
     "text": [
      "DEBUG flwr 2024-05-01 23:29:27,106 | server.py:173 | evaluate_round 11: strategy sampled 2 clients (out of 2)\n",
      "DEBUG flwr 2024-05-01 23:29:27,112 | server.py:187 | evaluate_round 11 received 2 results and 0 failures\n",
      "DEBUG flwr 2024-05-01 23:29:27,112 | server.py:222 | fit_round 12: strategy sampled 2 clients (out of 2)\n",
      "DEBUG flwr 2024-05-01 23:29:27,155 | server.py:236 | fit_round 12 received 2 results and 0 failures\n",
      "DEBUG flwr 2024-05-01 23:29:27,157 | server.py:173 | evaluate_round 12: strategy sampled 2 clients (out of 2)\n",
      "DEBUG flwr 2024-05-01 23:29:27,163 | server.py:187 | evaluate_round 12 received 2 results and 0 failures\n",
      "DEBUG flwr 2024-05-01 23:29:27,163 | server.py:222 | fit_round 13: strategy sampled 2 clients (out of 2)\n",
      "DEBUG flwr 2024-05-01 23:29:27,206 | server.py:236 | fit_round 13 received 2 results and 0 failures\n",
      "DEBUG flwr 2024-05-01 23:29:27,207 | server.py:173 | evaluate_round 13: strategy sampled 2 clients (out of 2)\n",
      "DEBUG flwr 2024-05-01 23:29:27,213 | server.py:187 | evaluate_round 13 received 2 results and 0 failures\n",
      "DEBUG flwr 2024-05-01 23:29:27,214 | server.py:222 | fit_round 14: strategy sampled 2 clients (out of 2)\n",
      "DEBUG flwr 2024-05-01 23:29:27,256 | server.py:236 | fit_round 14 received 2 results and 0 failures\n",
      "DEBUG flwr 2024-05-01 23:29:27,257 | server.py:173 | evaluate_round 14: strategy sampled 2 clients (out of 2)\n",
      "DEBUG flwr 2024-05-01 23:29:27,264 | server.py:187 | evaluate_round 14 received 2 results and 0 failures\n",
      "DEBUG flwr 2024-05-01 23:29:27,265 | server.py:222 | fit_round 15: strategy sampled 2 clients (out of 2)\n",
      "DEBUG flwr 2024-05-01 23:29:27,309 | server.py:236 | fit_round 15 received 2 results and 0 failures\n"
     ]
    },
    {
     "name": "stdout",
     "output_type": "stream",
     "text": [
      "[(339, {'train_accuracy': 0.9734513274336283}), (116, {'train_accuracy': 0.9568965517241379})]\n",
      "[(85, {'test_accuracy': 0.9529411764705882}), (29, {'test_accuracy': 0.9655172413793104})]\n",
      "[(339, {'train_accuracy': 0.9705014749262537}), (116, {'train_accuracy': 0.9568965517241379})]\n",
      "[(85, {'test_accuracy': 0.9529411764705882}), (29, {'test_accuracy': 0.9655172413793104})]\n",
      "[(339, {'train_accuracy': 0.9705014749262537}), (116, {'train_accuracy': 0.9568965517241379})]\n",
      "[(85, {'test_accuracy': 0.9529411764705882}), (29, {'test_accuracy': 0.9655172413793104})]\n",
      "[(339, {'train_accuracy': 0.9705014749262537}), (116, {'train_accuracy': 0.9568965517241379})]\n",
      "[(29, {'test_accuracy': 0.9655172413793104}), (85, {'test_accuracy': 0.9529411764705882})]\n"
     ]
    },
    {
     "name": "stderr",
     "output_type": "stream",
     "text": [
      "DEBUG flwr 2024-05-01 23:29:27,311 | server.py:173 | evaluate_round 15: strategy sampled 2 clients (out of 2)\n",
      "DEBUG flwr 2024-05-01 23:29:27,316 | server.py:187 | evaluate_round 15 received 2 results and 0 failures\n",
      "DEBUG flwr 2024-05-01 23:29:27,317 | server.py:222 | fit_round 16: strategy sampled 2 clients (out of 2)\n",
      "DEBUG flwr 2024-05-01 23:29:27,355 | server.py:236 | fit_round 16 received 2 results and 0 failures\n",
      "DEBUG flwr 2024-05-01 23:29:27,356 | server.py:173 | evaluate_round 16: strategy sampled 2 clients (out of 2)\n",
      "DEBUG flwr 2024-05-01 23:29:27,362 | server.py:187 | evaluate_round 16 received 2 results and 0 failures\n",
      "DEBUG flwr 2024-05-01 23:29:27,363 | server.py:222 | fit_round 17: strategy sampled 2 clients (out of 2)\n",
      "DEBUG flwr 2024-05-01 23:29:27,401 | server.py:236 | fit_round 17 received 2 results and 0 failures\n",
      "DEBUG flwr 2024-05-01 23:29:27,403 | server.py:173 | evaluate_round 17: strategy sampled 2 clients (out of 2)\n",
      "DEBUG flwr 2024-05-01 23:29:27,408 | server.py:187 | evaluate_round 17 received 2 results and 0 failures\n",
      "DEBUG flwr 2024-05-01 23:29:27,409 | server.py:222 | fit_round 18: strategy sampled 2 clients (out of 2)\n",
      "DEBUG flwr 2024-05-01 23:29:27,449 | server.py:236 | fit_round 18 received 2 results and 0 failures\n",
      "DEBUG flwr 2024-05-01 23:29:27,450 | server.py:173 | evaluate_round 18: strategy sampled 2 clients (out of 2)\n",
      "DEBUG flwr 2024-05-01 23:29:27,456 | server.py:187 | evaluate_round 18 received 2 results and 0 failures\n",
      "DEBUG flwr 2024-05-01 23:29:27,457 | server.py:222 | fit_round 19: strategy sampled 2 clients (out of 2)\n",
      "DEBUG flwr 2024-05-01 23:29:27,496 | server.py:236 | fit_round 19 received 2 results and 0 failures\n"
     ]
    },
    {
     "name": "stdout",
     "output_type": "stream",
     "text": [
      "[(116, {'train_accuracy': 0.9568965517241379}), (339, {'train_accuracy': 0.9734513274336283})]\n",
      "[(85, {'test_accuracy': 0.9529411764705882}), (29, {'test_accuracy': 0.9655172413793104})]\n",
      "[(339, {'train_accuracy': 0.9705014749262537}), (116, {'train_accuracy': 0.9568965517241379})]\n",
      "[(85, {'test_accuracy': 0.9529411764705882}), (29, {'test_accuracy': 0.9655172413793104})]\n",
      "[(116, {'train_accuracy': 0.9568965517241379}), (339, {'train_accuracy': 0.9705014749262537})]\n",
      "[(85, {'test_accuracy': 0.9529411764705882}), (29, {'test_accuracy': 0.9655172413793104})]\n",
      "[(339, {'train_accuracy': 0.9734513274336283}), (116, {'train_accuracy': 0.9568965517241379})]\n",
      "[(29, {'test_accuracy': 0.9655172413793104}), (85, {'test_accuracy': 0.9529411764705882})]\n"
     ]
    },
    {
     "name": "stderr",
     "output_type": "stream",
     "text": [
      "DEBUG flwr 2024-05-01 23:29:27,498 | server.py:173 | evaluate_round 19: strategy sampled 2 clients (out of 2)\n",
      "DEBUG flwr 2024-05-01 23:29:27,504 | server.py:187 | evaluate_round 19 received 2 results and 0 failures\n",
      "DEBUG flwr 2024-05-01 23:29:27,505 | server.py:222 | fit_round 20: strategy sampled 2 clients (out of 2)\n",
      "DEBUG flwr 2024-05-01 23:29:27,544 | server.py:236 | fit_round 20 received 2 results and 0 failures\n",
      "DEBUG flwr 2024-05-01 23:29:27,545 | server.py:173 | evaluate_round 20: strategy sampled 2 clients (out of 2)\n",
      "DEBUG flwr 2024-05-01 23:29:27,551 | server.py:187 | evaluate_round 20 received 2 results and 0 failures\n",
      "DEBUG flwr 2024-05-01 23:29:27,551 | server.py:222 | fit_round 21: strategy sampled 2 clients (out of 2)\n",
      "DEBUG flwr 2024-05-01 23:29:27,589 | server.py:236 | fit_round 21 received 2 results and 0 failures\n",
      "DEBUG flwr 2024-05-01 23:29:27,591 | server.py:173 | evaluate_round 21: strategy sampled 2 clients (out of 2)\n",
      "DEBUG flwr 2024-05-01 23:29:27,597 | server.py:187 | evaluate_round 21 received 2 results and 0 failures\n",
      "DEBUG flwr 2024-05-01 23:29:27,597 | server.py:222 | fit_round 22: strategy sampled 2 clients (out of 2)\n",
      "DEBUG flwr 2024-05-01 23:29:27,657 | server.py:236 | fit_round 22 received 2 results and 0 failures\n",
      "DEBUG flwr 2024-05-01 23:29:27,659 | server.py:173 | evaluate_round 22: strategy sampled 2 clients (out of 2)\n",
      "DEBUG flwr 2024-05-01 23:29:27,666 | server.py:187 | evaluate_round 22 received 2 results and 0 failures\n",
      "DEBUG flwr 2024-05-01 23:29:27,667 | server.py:222 | fit_round 23: strategy sampled 2 clients (out of 2)\n"
     ]
    },
    {
     "name": "stdout",
     "output_type": "stream",
     "text": [
      "[(116, {'train_accuracy': 0.9568965517241379}), (339, {'train_accuracy': 0.976401179941003})]\n",
      "[(85, {'test_accuracy': 0.9529411764705882}), (29, {'test_accuracy': 0.9655172413793104})]\n",
      "[(116, {'train_accuracy': 0.9568965517241379}), (339, {'train_accuracy': 0.9734513274336283})]\n",
      "[(85, {'test_accuracy': 0.9529411764705882}), (29, {'test_accuracy': 0.9655172413793104})]\n",
      "[(339, {'train_accuracy': 0.9705014749262537}), (116, {'train_accuracy': 0.9568965517241379})]\n",
      "[(29, {'test_accuracy': 0.9655172413793104}), (85, {'test_accuracy': 0.9529411764705882})]\n",
      "[(339, {'train_accuracy': 0.967551622418879}), (116, {'train_accuracy': 0.9568965517241379})]\n",
      "[(29, {'test_accuracy': 1.0}), (85, {'test_accuracy': 0.9529411764705882})]\n"
     ]
    },
    {
     "name": "stderr",
     "output_type": "stream",
     "text": [
      "DEBUG flwr 2024-05-01 23:29:27,707 | server.py:236 | fit_round 23 received 2 results and 0 failures\n",
      "DEBUG flwr 2024-05-01 23:29:27,708 | server.py:173 | evaluate_round 23: strategy sampled 2 clients (out of 2)\n",
      "DEBUG flwr 2024-05-01 23:29:27,714 | server.py:187 | evaluate_round 23 received 2 results and 0 failures\n",
      "DEBUG flwr 2024-05-01 23:29:27,715 | server.py:222 | fit_round 24: strategy sampled 2 clients (out of 2)\n",
      "DEBUG flwr 2024-05-01 23:29:27,758 | server.py:236 | fit_round 24 received 2 results and 0 failures\n",
      "DEBUG flwr 2024-05-01 23:29:27,759 | server.py:173 | evaluate_round 24: strategy sampled 2 clients (out of 2)\n",
      "DEBUG flwr 2024-05-01 23:29:27,765 | server.py:187 | evaluate_round 24 received 2 results and 0 failures\n",
      "DEBUG flwr 2024-05-01 23:29:27,766 | server.py:222 | fit_round 25: strategy sampled 2 clients (out of 2)\n",
      "DEBUG flwr 2024-05-01 23:29:27,806 | server.py:236 | fit_round 25 received 2 results and 0 failures\n",
      "DEBUG flwr 2024-05-01 23:29:27,807 | server.py:173 | evaluate_round 25: strategy sampled 2 clients (out of 2)\n",
      "DEBUG flwr 2024-05-01 23:29:27,814 | server.py:187 | evaluate_round 25 received 2 results and 0 failures\n",
      "INFO flwr 2024-05-01 23:29:27,814 | server.py:153 | FL finished in 3.639944899999989\n",
      "INFO flwr 2024-05-01 23:29:27,815 | app.py:226 | app_fit: losses_distributed [(1, 0.12755315780247511), (2, 0.09256965830399279), (3, 0.08410738591562238), (4, 0.08392179603770114), (5, 0.07843497522959583), (6, 0.07971888927644805), (7, 0.07973094660331283), (8, 0.07964236462456092), (9, 0.08427585873818189), (10, 0.0830364207361351), (11, 0.08150270094343445), (12, 0.0793442014408739), (13, 0.07994173705708563), (14, 0.08057339009093611), (15, 0.08040876853230752), (16, 0.08270856489737828), (17, 0.08034553993166539), (18, 0.08035465712217908), (19, 0.08165397900238372), (20, 0.08223084968171622), (21, 0.08325887602149394), (22, 0.08335398784593533), (23, 0.08434598242635266), (24, 0.07951164301158044), (25, 0.07965635384122531)]\n",
      "INFO flwr 2024-05-01 23:29:27,816 | app.py:227 | app_fit: metrics_distributed_fit {'train_accuracy': [(1, 0.9626373626373627), (2, 0.9648351648351648), (3, 0.967032967032967), (4, 0.9692307692307692), (5, 0.967032967032967), (6, 0.967032967032967), (7, 0.9692307692307692), (8, 0.9692307692307692), (9, 0.9692307692307692), (10, 0.9714285714285714), (11, 0.9692307692307692), (12, 0.967032967032967), (13, 0.967032967032967), (14, 0.967032967032967), (15, 0.9692307692307692), (16, 0.967032967032967), (17, 0.967032967032967), (18, 0.9692307692307692), (19, 0.9714285714285714), (20, 0.9692307692307692), (21, 0.967032967032967), (22, 0.9648351648351648), (23, 0.967032967032967), (24, 0.967032967032967), (25, 0.9692307692307692)]}\n",
      "INFO flwr 2024-05-01 23:29:27,816 | app.py:228 | app_fit: metrics_distributed {'test_accuracy': [(1, 0.9473684210526315), (2, 0.956140350877193), (3, 0.956140350877193), (4, 0.956140350877193), (5, 0.956140350877193), (6, 0.956140350877193), (7, 0.956140350877193), (8, 0.956140350877193), (9, 0.956140350877193), (10, 0.956140350877193), (11, 0.956140350877193), (12, 0.956140350877193), (13, 0.956140350877193), (14, 0.956140350877193), (15, 0.956140350877193), (16, 0.956140350877193), (17, 0.956140350877193), (18, 0.956140350877193), (19, 0.956140350877193), (20, 0.956140350877193), (21, 0.956140350877193), (22, 0.9649122807017544), (23, 0.956140350877193), (24, 0.956140350877193), (25, 0.956140350877193)]}\n",
      "INFO flwr 2024-05-01 23:29:27,816 | app.py:229 | app_fit: losses_centralized []\n",
      "INFO flwr 2024-05-01 23:29:27,817 | app.py:230 | app_fit: metrics_centralized {}\n"
     ]
    },
    {
     "name": "stdout",
     "output_type": "stream",
     "text": [
      "[(116, {'train_accuracy': 0.9568965517241379}), (339, {'train_accuracy': 0.9705014749262537})]\n",
      "[(85, {'test_accuracy': 0.9529411764705882}), (29, {'test_accuracy': 0.9655172413793104})]\n",
      "[(339, {'train_accuracy': 0.9705014749262537}), (116, {'train_accuracy': 0.9568965517241379})]\n",
      "[(29, {'test_accuracy': 0.9655172413793104}), (85, {'test_accuracy': 0.9529411764705882})]\n",
      "[(116, {'train_accuracy': 0.9568965517241379}), (339, {'train_accuracy': 0.9734513274336283})]\n",
      "[(85, {'test_accuracy': 0.9529411764705882}), (29, {'test_accuracy': 0.9655172413793104})]\n"
     ]
    }
   ],
   "source": [
    "import flwr as fl\n",
    "import utils\n",
    "from sklearn.linear_model import LogisticRegression\n",
    "\n",
    "\n",
    "# Start Flower server for five rounds of federated learning\n",
    "if __name__ == \"__main__\":\n",
    "    model = LogisticRegression()\n",
    "    utils.set_initial_params(model, n_classes=2, n_features=30)\n",
    "    strategy = fl.server.strategy.FedAvg(\n",
    "        min_available_clients=2,\n",
    "        fit_metrics_aggregation_fn=utils.weighted_average,\n",
    "        evaluate_metrics_aggregation_fn=utils.weighted_average,\n",
    "    )\n",
    "    fl.server.start_server(\n",
    "        server_address=\"127.0.0.1:8080\",\n",
    "        strategy=strategy,\n",
    "        config=fl.server.ServerConfig(num_rounds=25),\n",
    "    )\n",
    "    "
   ]
  }
 ],
 "metadata": {
  "kernelspec": {
   "display_name": "tf",
   "language": "python",
   "name": "python3"
  },
  "language_info": {
   "codemirror_mode": {
    "name": "ipython",
    "version": 3
   },
   "file_extension": ".py",
   "mimetype": "text/x-python",
   "name": "python",
   "nbconvert_exporter": "python",
   "pygments_lexer": "ipython3",
   "version": "3.9.17"
  }
 },
 "nbformat": 4,
 "nbformat_minor": 2
}
