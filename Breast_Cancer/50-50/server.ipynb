{
 "cells": [
  {
   "cell_type": "code",
   "execution_count": 4,
   "metadata": {},
   "outputs": [
    {
     "name": "stderr",
     "output_type": "stream",
     "text": [
      "INFO flwr 2024-05-15 19:37:58,984 | app.py:163 | Starting Flower server, config: ServerConfig(num_rounds=25, round_timeout=None)\n",
      "INFO flwr 2024-05-15 19:37:59,023 | app.py:176 | Flower ECE: gRPC server running (25 rounds), SSL is disabled\n",
      "INFO flwr 2024-05-15 19:37:59,024 | server.py:89 | Initializing global parameters\n",
      "INFO flwr 2024-05-15 19:37:59,024 | server.py:276 | Requesting initial parameters from one random client\n"
     ]
    }
   ],
   "source": [
    "import flwr as fl\n",
    "import utils\n",
    "from sklearn.linear_model import LogisticRegression\n",
    "\n",
    "\n",
    "# Start Flower server for five rounds of federated learning\n",
    "if __name__ == \"__main__\":\n",
    "    model = LogisticRegression()\n",
    "    utils.set_initial_params(model, n_classes=2, n_features=30)\n",
    "    strategy = fl.server.strategy.FedAvg(\n",
    "        min_available_clients=2,\n",
    "        fit_metrics_aggregation_fn=utils.weighted_average,\n",
    "        evaluate_metrics_aggregation_fn=utils.weighted_average,\n",
    "    )\n",
    "    st = fl.server.strategy.FedMedian(\n",
    "        min_available_clients=2,\n",
    "        fit_metrics_aggregation_fn=utils.weighted_average,\n",
    "        evaluate_metrics_aggregation_fn=utils.weighted_average,\n",
    "    )\n",
    "    fl.server.start_server(\n",
    "        server_address=\"127.0.0.1:8080\",\n",
    "        strategy=st,\n",
    "        config=fl.server.ServerConfig(num_rounds=25),\n",
    "    )"
   ]
  }
 ],
 "metadata": {
  "kernelspec": {
   "display_name": "tf",
   "language": "python",
   "name": "python3"
  },
  "language_info": {
   "codemirror_mode": {
    "name": "ipython",
    "version": 3
   },
   "file_extension": ".py",
   "mimetype": "text/x-python",
   "name": "python",
   "nbconvert_exporter": "python",
   "pygments_lexer": "ipython3",
   "version": "3.9.17"
  }
 },
 "nbformat": 4,
 "nbformat_minor": 2
}
