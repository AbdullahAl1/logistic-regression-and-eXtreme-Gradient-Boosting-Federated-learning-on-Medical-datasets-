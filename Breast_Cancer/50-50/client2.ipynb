{
 "cells": [
  {
   "cell_type": "code",
   "execution_count": 1,
   "metadata": {},
   "outputs": [],
   "source": [
    "import pandas as pd\n",
    "import numpy as np"
   ]
  },
  {
   "cell_type": "code",
   "execution_count": 2,
   "metadata": {},
   "outputs": [],
   "source": [
    "df = pd.read_csv('./cl2.csv')"
   ]
  },
  {
   "cell_type": "code",
   "execution_count": 3,
   "metadata": {},
   "outputs": [
    {
     "name": "stdout",
     "output_type": "stream",
     "text": [
      "Shape of training set: (228, 31)\n",
      "Shape of test set: (57, 31)\n"
     ]
    }
   ],
   "source": [
    "from sklearn.model_selection import train_test_split\n",
    "\n",
    "# splitting data\n",
    "X_train, X_test, y_train, y_test = train_test_split(\n",
    "                df.drop('diagnosis', axis=1),\n",
    "                df['diagnosis'],\n",
    "                test_size=0.2,\n",
    "                random_state=42)\n",
    "\n",
    "print(\"Shape of training set:\", X_train.shape)\n",
    "print(\"Shape of test set:\", X_test.shape)"
   ]
  },
  {
   "cell_type": "code",
   "execution_count": 4,
   "metadata": {},
   "outputs": [
    {
     "name": "stderr",
     "output_type": "stream",
     "text": [
      "c:\\Users\\fafaf\\anaconda3\\envs\\tf\\lib\\site-packages\\sklearn\\linear_model\\_logistic.py:444: ConvergenceWarning: lbfgs failed to converge (status=1):\n",
      "STOP: TOTAL NO. of ITERATIONS REACHED LIMIT.\n",
      "\n",
      "Increase the number of iterations (max_iter) or scale the data as shown in:\n",
      "    https://scikit-learn.org/stable/modules/preprocessing.html\n",
      "Please also refer to the documentation for alternative solver options:\n",
      "    https://scikit-learn.org/stable/modules/linear_model.html#logistic-regression\n",
      "  n_iter_i = _check_optimize_result(\n"
     ]
    }
   ],
   "source": [
    "from sklearn.linear_model import LogisticRegression\n",
    "\n",
    "logreg = LogisticRegression()\n",
    "logreg.fit(X_train, y_train)\n",
    "predictions1 = logreg.predict(X_test)"
   ]
  },
  {
   "cell_type": "code",
   "execution_count": 5,
   "metadata": {},
   "outputs": [
    {
     "name": "stdout",
     "output_type": "stream",
     "text": [
      "Confusion Matrix: \n",
      " [[38  3]\n",
      " [ 2 14]]\n",
      "\n",
      "\n",
      "              precision    recall  f1-score   support\n",
      "\n",
      "           0       0.95      0.93      0.94        41\n",
      "           1       0.82      0.88      0.85        16\n",
      "\n",
      "    accuracy                           0.91        57\n",
      "   macro avg       0.89      0.90      0.89        57\n",
      "weighted avg       0.91      0.91      0.91        57\n",
      "\n"
     ]
    }
   ],
   "source": [
    "from sklearn.metrics import confusion_matrix, classification_report\n",
    "\n",
    "print(\"Confusion Matrix: \\n\", confusion_matrix(y_test, predictions1))\n",
    "print('\\n')\n",
    "print(classification_report(y_test, predictions1))"
   ]
  },
  {
   "cell_type": "code",
   "execution_count": 16,
   "metadata": {},
   "outputs": [],
   "source": [
    "model = LogisticRegression(warm_start=True,penalty='l2')"
   ]
  },
  {
   "cell_type": "code",
   "execution_count": 17,
   "metadata": {},
   "outputs": [],
   "source": [
    "import utils\n",
    "utils.set_initial_params(model, n_features=X_train.shape[1], n_classes=2)"
   ]
  },
  {
   "cell_type": "code",
   "execution_count": 18,
   "metadata": {},
   "outputs": [
    {
     "name": "stderr",
     "output_type": "stream",
     "text": [
      "INFO flwr 2024-05-01 19:24:11,690 | grpc.py:52 | Opened insecure gRPC connection (no certificates were passed)\n",
      "DEBUG flwr 2024-05-01 19:24:11,702 | connection.py:55 | ChannelConnectivity.IDLE\n",
      "DEBUG flwr 2024-05-01 19:24:11,704 | connection.py:55 | ChannelConnectivity.READY\n"
     ]
    },
    {
     "name": "stdout",
     "output_type": "stream",
     "text": [
      "0.9649122807017544\n",
      "0.9824561403508771\n",
      "0.9824561403508771\n",
      "0.9824561403508771\n",
      "0.9824561403508771\n",
      "0.9824561403508771\n",
      "0.9824561403508771\n",
      "0.9824561403508771\n",
      "0.9824561403508771\n",
      "0.9824561403508771\n",
      "0.9824561403508771\n",
      "0.9824561403508771\n",
      "0.9824561403508771\n",
      "0.9824561403508771\n",
      "0.9824561403508771\n",
      "0.9824561403508771\n",
      "0.9824561403508771\n",
      "0.9824561403508771\n"
     ]
    },
    {
     "name": "stderr",
     "output_type": "stream",
     "text": [
      "DEBUG flwr 2024-05-01 19:24:12,347 | connection.py:220 | gRPC channel closed\n",
      "INFO flwr 2024-05-01 19:24:12,348 | app.py:398 | Disconnect and shut down\n"
     ]
    },
    {
     "name": "stdout",
     "output_type": "stream",
     "text": [
      "0.9824561403508771\n",
      "0.9824561403508771\n",
      "0.9824561403508771\n",
      "0.9824561403508771\n",
      "0.9824561403508771\n",
      "0.9824561403508771\n",
      "0.9824561403508771\n"
     ]
    }
   ],
   "source": [
    "import flwr as fl\n",
    "import warnings\n",
    "from sklearn.metrics import log_loss\n",
    "\n",
    "class IrisClient(fl.client.NumPyClient):\n",
    "        def get_parameters(self, config):  # type: ignore\n",
    "            return utils.get_model_parameters(model)\n",
    "\n",
    "        def fit(self, parameters, config):  # type: ignore\n",
    "            utils.set_model_params(model, parameters)\n",
    "            # Ignore convergence failure due to low local epochs\n",
    "            with warnings.catch_warnings():\n",
    "                warnings.simplefilter(\"ignore\")\n",
    "                model.fit(X_train, y_train)\n",
    "            accuracy = model.score(X_train, y_train)\n",
    "            return (\n",
    "                utils.get_model_parameters(model),\n",
    "                len(X_train),\n",
    "                {\"train_accuracy\": accuracy},\n",
    "            )\n",
    "\n",
    "        def evaluate(self, parameters, config):  # type: ignore\n",
    "            utils.set_model_params(model, parameters)\n",
    "            loss = log_loss(y_test, model.predict_proba(X_test))\n",
    "            accuracy = model.score(X_test, y_test)\n",
    "            print(accuracy)\n",
    "            return loss, len(X_test), {\"test_accuracy\": accuracy}\n",
    "\n",
    "    # Start Flower client\n",
    "fl.client.start_client(\n",
    "    server_address=\"127.0.0.1:8080\", client=IrisClient().to_client()\n",
    ")"
   ]
  },
  {
   "cell_type": "code",
   "execution_count": 19,
   "metadata": {},
   "outputs": [
    {
     "name": "stdout",
     "output_type": "stream",
     "text": [
      "[[-1.31967070e-02 -9.95126773e-01 -2.18727170e-01 -3.82155037e-01\n",
      "   2.07680967e-02  4.17902429e-02  1.66831942e-01  2.75630735e-01\n",
      "   1.17443553e-01  8.84330549e-02  1.19885944e-02 -2.26381002e-02\n",
      "  -4.59366826e-01  1.48304957e-03  1.14120377e-01  4.88681734e-03\n",
      "   1.91833926e-02  5.45228425e-02  1.77466670e-02  2.27397515e-02\n",
      "   2.36365885e-04 -1.11616890e+00  4.44572059e-01  3.28493545e-01\n",
      "   1.59877257e-02  8.33240430e-02  4.79810546e-01  7.74920686e-01\n",
      "   2.24007421e-01  2.92702347e-01  3.50153642e-02]]\n"
     ]
    }
   ],
   "source": [
    "print(model.coef_)"
   ]
  },
  {
   "cell_type": "code",
   "execution_count": 20,
   "metadata": {},
   "outputs": [
    {
     "name": "stdout",
     "output_type": "stream",
     "text": [
      "              precision    recall  f1-score   support\n",
      "\n",
      "           0       0.98      1.00      0.99        41\n",
      "           1       1.00      0.94      0.97        16\n",
      "\n",
      "    accuracy                           0.98        57\n",
      "   macro avg       0.99      0.97      0.98        57\n",
      "weighted avg       0.98      0.98      0.98        57\n",
      "\n"
     ]
    }
   ],
   "source": [
    "predictions1 = model.predict(X_test)\n",
    "print(classification_report(y_test, predictions1))"
   ]
  },
  {
   "cell_type": "code",
   "execution_count": 21,
   "metadata": {},
   "outputs": [
    {
     "name": "stdout",
     "output_type": "stream",
     "text": [
      "Confusion Matrix: \n",
      " [[41  0]\n",
      " [ 1 15]]\n"
     ]
    }
   ],
   "source": [
    "print(\"Confusion Matrix: \\n\", confusion_matrix(y_test, predictions1))\n"
   ]
  }
 ],
 "metadata": {
  "kernelspec": {
   "display_name": "tf",
   "language": "python",
   "name": "python3"
  },
  "language_info": {
   "codemirror_mode": {
    "name": "ipython",
    "version": 3
   },
   "file_extension": ".py",
   "mimetype": "text/x-python",
   "name": "python",
   "nbconvert_exporter": "python",
   "pygments_lexer": "ipython3",
   "version": "3.9.17"
  }
 },
 "nbformat": 4,
 "nbformat_minor": 2
}
