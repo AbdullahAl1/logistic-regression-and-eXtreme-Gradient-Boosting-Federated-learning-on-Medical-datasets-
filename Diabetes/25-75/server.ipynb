{
 "cells": [
  {
   "cell_type": "code",
   "execution_count": 3,
   "metadata": {},
   "outputs": [
    {
     "name": "stderr",
     "output_type": "stream",
     "text": [
      "INFO flwr 2024-05-11 18:38:48,431 | app.py:163 | Starting Flower server, config: ServerConfig(num_rounds=25, round_timeout=None)\n"
     ]
    },
    {
     "name": "stderr",
     "output_type": "stream",
     "text": [
      "INFO flwr 2024-05-11 18:38:48,451 | app.py:176 | Flower ECE: gRPC server running (25 rounds), SSL is disabled\n",
      "INFO flwr 2024-05-11 18:38:48,452 | server.py:89 | Initializing global parameters\n",
      "INFO flwr 2024-05-11 18:38:48,452 | server.py:276 | Requesting initial parameters from one random client\n",
      "INFO flwr 2024-05-11 18:38:50,493 | server.py:280 | Received initial parameters from one random client\n",
      "INFO flwr 2024-05-11 18:38:50,494 | server.py:91 | Evaluating initial parameters\n",
      "INFO flwr 2024-05-11 18:38:50,494 | server.py:104 | FL starting\n",
      "DEBUG flwr 2024-05-11 18:38:52,065 | server.py:222 | fit_round 1: strategy sampled 2 clients (out of 2)\n",
      "DEBUG flwr 2024-05-11 18:38:52,081 | server.py:236 | fit_round 1 received 2 results and 0 failures\n",
      "DEBUG flwr 2024-05-11 18:38:52,083 | server.py:173 | evaluate_round 1: strategy sampled 2 clients (out of 2)\n",
      "DEBUG flwr 2024-05-11 18:38:52,088 | server.py:187 | evaluate_round 1 received 2 results and 0 failures\n",
      "DEBUG flwr 2024-05-11 18:38:52,089 | server.py:222 | fit_round 2: strategy sampled 2 clients (out of 2)\n",
      "DEBUG flwr 2024-05-11 18:38:52,103 | server.py:236 | fit_round 2 received 2 results and 0 failures\n",
      "DEBUG flwr 2024-05-11 18:38:52,104 | server.py:173 | evaluate_round 2: strategy sampled 2 clients (out of 2)\n",
      "DEBUG flwr 2024-05-11 18:38:52,110 | server.py:187 | evaluate_round 2 received 2 results and 0 failures\n",
      "DEBUG flwr 2024-05-11 18:38:52,111 | server.py:222 | fit_round 3: strategy sampled 2 clients (out of 2)\n",
      "DEBUG flwr 2024-05-11 18:38:52,125 | server.py:236 | fit_round 3 received 2 results and 0 failures\n",
      "DEBUG flwr 2024-05-11 18:38:52,126 | server.py:173 | evaluate_round 3: strategy sampled 2 clients (out of 2)\n",
      "DEBUG flwr 2024-05-11 18:38:52,131 | server.py:187 | evaluate_round 3 received 2 results and 0 failures\n",
      "DEBUG flwr 2024-05-11 18:38:52,132 | server.py:222 | fit_round 4: strategy sampled 2 clients (out of 2)\n",
      "DEBUG flwr 2024-05-11 18:38:52,144 | server.py:236 | fit_round 4 received 2 results and 0 failures\n",
      "DEBUG flwr 2024-05-11 18:38:52,146 | server.py:173 | evaluate_round 4: strategy sampled 2 clients (out of 2)\n",
      "DEBUG flwr 2024-05-11 18:38:52,151 | server.py:187 | evaluate_round 4 received 2 results and 0 failures\n",
      "DEBUG flwr 2024-05-11 18:38:52,152 | server.py:222 | fit_round 5: strategy sampled 2 clients (out of 2)\n",
      "DEBUG flwr 2024-05-11 18:38:52,167 | server.py:236 | fit_round 5 received 2 results and 0 failures\n",
      "DEBUG flwr 2024-05-11 18:38:52,168 | server.py:173 | evaluate_round 5: strategy sampled 2 clients (out of 2)\n",
      "DEBUG flwr 2024-05-11 18:38:52,176 | server.py:187 | evaluate_round 5 received 2 results and 0 failures\n",
      "DEBUG flwr 2024-05-11 18:38:52,177 | server.py:222 | fit_round 6: strategy sampled 2 clients (out of 2)\n",
      "DEBUG flwr 2024-05-11 18:38:52,191 | server.py:236 | fit_round 6 received 2 results and 0 failures\n",
      "DEBUG flwr 2024-05-11 18:38:52,193 | server.py:173 | evaluate_round 6: strategy sampled 2 clients (out of 2)\n",
      "DEBUG flwr 2024-05-11 18:38:52,199 | server.py:187 | evaluate_round 6 received 2 results and 0 failures\n",
      "DEBUG flwr 2024-05-11 18:38:52,200 | server.py:222 | fit_round 7: strategy sampled 2 clients (out of 2)\n",
      "DEBUG flwr 2024-05-11 18:38:52,217 | server.py:236 | fit_round 7 received 2 results and 0 failures\n",
      "DEBUG flwr 2024-05-11 18:38:52,219 | server.py:173 | evaluate_round 7: strategy sampled 2 clients (out of 2)\n",
      "DEBUG flwr 2024-05-11 18:38:52,225 | server.py:187 | evaluate_round 7 received 2 results and 0 failures\n",
      "DEBUG flwr 2024-05-11 18:38:52,226 | server.py:222 | fit_round 8: strategy sampled 2 clients (out of 2)\n",
      "DEBUG flwr 2024-05-11 18:38:52,239 | server.py:236 | fit_round 8 received 2 results and 0 failures\n",
      "DEBUG flwr 2024-05-11 18:38:52,241 | server.py:173 | evaluate_round 8: strategy sampled 2 clients (out of 2)\n",
      "DEBUG flwr 2024-05-11 18:38:52,246 | server.py:187 | evaluate_round 8 received 2 results and 0 failures\n",
      "DEBUG flwr 2024-05-11 18:38:52,247 | server.py:222 | fit_round 9: strategy sampled 2 clients (out of 2)\n",
      "DEBUG flwr 2024-05-11 18:38:52,264 | server.py:236 | fit_round 9 received 2 results and 0 failures\n"
     ]
    },
    {
     "name": "stdout",
     "output_type": "stream",
     "text": [
      "[(460, {'train_accuracy': 0.7565217391304347}), (153, {'train_accuracy': 0.7450980392156863})]\n",
      "[(116, {'test_accuracy': 0.8362068965517241}), (39, {'test_accuracy': 0.7435897435897436})]\n",
      "[(153, {'train_accuracy': 0.7450980392156863}), (460, {'train_accuracy': 0.7608695652173914})]\n",
      "[(39, {'test_accuracy': 0.7435897435897436}), (116, {'test_accuracy': 0.8362068965517241})]\n",
      "[(460, {'train_accuracy': 0.7608695652173914}), (153, {'train_accuracy': 0.7450980392156863})]\n",
      "[(39, {'test_accuracy': 0.7435897435897436}), (116, {'test_accuracy': 0.8362068965517241})]\n",
      "[(460, {'train_accuracy': 0.7608695652173914}), (153, {'train_accuracy': 0.7450980392156863})]\n",
      "[(116, {'test_accuracy': 0.8362068965517241}), (39, {'test_accuracy': 0.7435897435897436})]\n",
      "[(460, {'train_accuracy': 0.7608695652173914}), (153, {'train_accuracy': 0.7450980392156863})]\n",
      "[(116, {'test_accuracy': 0.8362068965517241}), (39, {'test_accuracy': 0.7435897435897436})]\n",
      "[(153, {'train_accuracy': 0.7450980392156863}), (460, {'train_accuracy': 0.7630434782608696})]\n",
      "[(39, {'test_accuracy': 0.7435897435897436}), (116, {'test_accuracy': 0.8362068965517241})]\n",
      "[(460, {'train_accuracy': 0.7608695652173914}), (153, {'train_accuracy': 0.7450980392156863})]\n",
      "[(39, {'test_accuracy': 0.7435897435897436}), (116, {'test_accuracy': 0.8362068965517241})]\n",
      "[(153, {'train_accuracy': 0.7450980392156863}), (460, {'train_accuracy': 0.7608695652173914})]\n",
      "[(116, {'test_accuracy': 0.8362068965517241}), (39, {'test_accuracy': 0.7435897435897436})]\n"
     ]
    },
    {
     "name": "stderr",
     "output_type": "stream",
     "text": [
      "DEBUG flwr 2024-05-11 18:38:52,266 | server.py:173 | evaluate_round 9: strategy sampled 2 clients (out of 2)\n",
      "DEBUG flwr 2024-05-11 18:38:52,272 | server.py:187 | evaluate_round 9 received 2 results and 0 failures\n",
      "DEBUG flwr 2024-05-11 18:38:52,272 | server.py:222 | fit_round 10: strategy sampled 2 clients (out of 2)\n",
      "DEBUG flwr 2024-05-11 18:38:52,287 | server.py:236 | fit_round 10 received 2 results and 0 failures\n",
      "DEBUG flwr 2024-05-11 18:38:52,289 | server.py:173 | evaluate_round 10: strategy sampled 2 clients (out of 2)\n",
      "DEBUG flwr 2024-05-11 18:38:52,295 | server.py:187 | evaluate_round 10 received 2 results and 0 failures\n",
      "DEBUG flwr 2024-05-11 18:38:52,295 | server.py:222 | fit_round 11: strategy sampled 2 clients (out of 2)\n",
      "DEBUG flwr 2024-05-11 18:38:52,310 | server.py:236 | fit_round 11 received 2 results and 0 failures\n",
      "DEBUG flwr 2024-05-11 18:38:52,312 | server.py:173 | evaluate_round 11: strategy sampled 2 clients (out of 2)\n",
      "DEBUG flwr 2024-05-11 18:38:52,317 | server.py:187 | evaluate_round 11 received 2 results and 0 failures\n",
      "DEBUG flwr 2024-05-11 18:38:52,318 | server.py:222 | fit_round 12: strategy sampled 2 clients (out of 2)\n",
      "DEBUG flwr 2024-05-11 18:38:52,332 | server.py:236 | fit_round 12 received 2 results and 0 failures\n",
      "DEBUG flwr 2024-05-11 18:38:52,334 | server.py:173 | evaluate_round 12: strategy sampled 2 clients (out of 2)\n",
      "DEBUG flwr 2024-05-11 18:38:52,342 | server.py:187 | evaluate_round 12 received 2 results and 0 failures\n",
      "DEBUG flwr 2024-05-11 18:38:52,343 | server.py:222 | fit_round 13: strategy sampled 2 clients (out of 2)\n",
      "DEBUG flwr 2024-05-11 18:38:52,381 | server.py:236 | fit_round 13 received 2 results and 0 failures\n",
      "DEBUG flwr 2024-05-11 18:38:52,384 | server.py:173 | evaluate_round 13: strategy sampled 2 clients (out of 2)\n",
      "DEBUG flwr 2024-05-11 18:38:52,394 | server.py:187 | evaluate_round 13 received 2 results and 0 failures\n",
      "DEBUG flwr 2024-05-11 18:38:52,395 | server.py:222 | fit_round 14: strategy sampled 2 clients (out of 2)\n",
      "DEBUG flwr 2024-05-11 18:38:52,413 | server.py:236 | fit_round 14 received 2 results and 0 failures\n",
      "DEBUG flwr 2024-05-11 18:38:52,414 | server.py:173 | evaluate_round 14: strategy sampled 2 clients (out of 2)\n",
      "DEBUG flwr 2024-05-11 18:38:52,421 | server.py:187 | evaluate_round 14 received 2 results and 0 failures\n",
      "DEBUG flwr 2024-05-11 18:38:52,422 | server.py:222 | fit_round 15: strategy sampled 2 clients (out of 2)\n",
      "DEBUG flwr 2024-05-11 18:38:52,437 | server.py:236 | fit_round 15 received 2 results and 0 failures\n",
      "DEBUG flwr 2024-05-11 18:38:52,438 | server.py:173 | evaluate_round 15: strategy sampled 2 clients (out of 2)\n",
      "DEBUG flwr 2024-05-11 18:38:52,445 | server.py:187 | evaluate_round 15 received 2 results and 0 failures\n",
      "DEBUG flwr 2024-05-11 18:38:52,446 | server.py:222 | fit_round 16: strategy sampled 2 clients (out of 2)\n"
     ]
    },
    {
     "name": "stdout",
     "output_type": "stream",
     "text": [
      "[(460, {'train_accuracy': 0.7608695652173914}), (153, {'train_accuracy': 0.7450980392156863})]\n",
      "[(116, {'test_accuracy': 0.8362068965517241}), (39, {'test_accuracy': 0.7435897435897436})]\n",
      "[(153, {'train_accuracy': 0.7450980392156863}), (460, {'train_accuracy': 0.7608695652173914})]\n",
      "[(116, {'test_accuracy': 0.8362068965517241}), (39, {'test_accuracy': 0.7435897435897436})]\n",
      "[(153, {'train_accuracy': 0.7450980392156863}), (460, {'train_accuracy': 0.7608695652173914})]\n",
      "[(116, {'test_accuracy': 0.8362068965517241}), (39, {'test_accuracy': 0.7435897435897436})]\n",
      "[(153, {'train_accuracy': 0.7450980392156863}), (460, {'train_accuracy': 0.7630434782608696})]\n",
      "[(39, {'test_accuracy': 0.7435897435897436}), (116, {'test_accuracy': 0.8362068965517241})]\n",
      "[(153, {'train_accuracy': 0.7450980392156863}), (460, {'train_accuracy': 0.7608695652173914})]\n",
      "[(116, {'test_accuracy': 0.8362068965517241}), (39, {'test_accuracy': 0.7435897435897436})]\n",
      "[(153, {'train_accuracy': 0.7450980392156863}), (460, {'train_accuracy': 0.7608695652173914})]\n",
      "[(116, {'test_accuracy': 0.8362068965517241}), (39, {'test_accuracy': 0.7435897435897436})]\n",
      "[(460, {'train_accuracy': 0.7608695652173914}), (153, {'train_accuracy': 0.7450980392156863})]\n",
      "[(39, {'test_accuracy': 0.7435897435897436}), (116, {'test_accuracy': 0.8362068965517241})]\n"
     ]
    },
    {
     "name": "stderr",
     "output_type": "stream",
     "text": [
      "DEBUG flwr 2024-05-11 18:38:52,462 | server.py:236 | fit_round 16 received 2 results and 0 failures\n",
      "DEBUG flwr 2024-05-11 18:38:52,464 | server.py:173 | evaluate_round 16: strategy sampled 2 clients (out of 2)\n",
      "DEBUG flwr 2024-05-11 18:38:52,470 | server.py:187 | evaluate_round 16 received 2 results and 0 failures\n",
      "DEBUG flwr 2024-05-11 18:38:52,470 | server.py:222 | fit_round 17: strategy sampled 2 clients (out of 2)\n",
      "DEBUG flwr 2024-05-11 18:38:52,484 | server.py:236 | fit_round 17 received 2 results and 0 failures\n",
      "DEBUG flwr 2024-05-11 18:38:52,485 | server.py:173 | evaluate_round 17: strategy sampled 2 clients (out of 2)\n",
      "DEBUG flwr 2024-05-11 18:38:52,491 | server.py:187 | evaluate_round 17 received 2 results and 0 failures\n",
      "DEBUG flwr 2024-05-11 18:38:52,492 | server.py:222 | fit_round 18: strategy sampled 2 clients (out of 2)\n",
      "DEBUG flwr 2024-05-11 18:38:52,506 | server.py:236 | fit_round 18 received 2 results and 0 failures\n",
      "DEBUG flwr 2024-05-11 18:38:52,507 | server.py:173 | evaluate_round 18: strategy sampled 2 clients (out of 2)\n",
      "DEBUG flwr 2024-05-11 18:38:52,513 | server.py:187 | evaluate_round 18 received 2 results and 0 failures\n",
      "DEBUG flwr 2024-05-11 18:38:52,513 | server.py:222 | fit_round 19: strategy sampled 2 clients (out of 2)\n",
      "DEBUG flwr 2024-05-11 18:38:52,527 | server.py:236 | fit_round 19 received 2 results and 0 failures\n",
      "DEBUG flwr 2024-05-11 18:38:52,528 | server.py:173 | evaluate_round 19: strategy sampled 2 clients (out of 2)\n",
      "DEBUG flwr 2024-05-11 18:38:52,533 | server.py:187 | evaluate_round 19 received 2 results and 0 failures\n",
      "DEBUG flwr 2024-05-11 18:38:52,534 | server.py:222 | fit_round 20: strategy sampled 2 clients (out of 2)\n",
      "DEBUG flwr 2024-05-11 18:38:52,548 | server.py:236 | fit_round 20 received 2 results and 0 failures\n",
      "DEBUG flwr 2024-05-11 18:38:52,549 | server.py:173 | evaluate_round 20: strategy sampled 2 clients (out of 2)\n",
      "DEBUG flwr 2024-05-11 18:38:52,555 | server.py:187 | evaluate_round 20 received 2 results and 0 failures\n",
      "DEBUG flwr 2024-05-11 18:38:52,555 | server.py:222 | fit_round 21: strategy sampled 2 clients (out of 2)\n",
      "DEBUG flwr 2024-05-11 18:38:52,569 | server.py:236 | fit_round 21 received 2 results and 0 failures\n",
      "DEBUG flwr 2024-05-11 18:38:52,570 | server.py:173 | evaluate_round 21: strategy sampled 2 clients (out of 2)\n",
      "DEBUG flwr 2024-05-11 18:38:52,576 | server.py:187 | evaluate_round 21 received 2 results and 0 failures\n",
      "DEBUG flwr 2024-05-11 18:38:52,576 | server.py:222 | fit_round 22: strategy sampled 2 clients (out of 2)\n",
      "DEBUG flwr 2024-05-11 18:38:52,591 | server.py:236 | fit_round 22 received 2 results and 0 failures\n",
      "DEBUG flwr 2024-05-11 18:38:52,592 | server.py:173 | evaluate_round 22: strategy sampled 2 clients (out of 2)\n",
      "DEBUG flwr 2024-05-11 18:38:52,597 | server.py:187 | evaluate_round 22 received 2 results and 0 failures\n",
      "DEBUG flwr 2024-05-11 18:38:52,598 | server.py:222 | fit_round 23: strategy sampled 2 clients (out of 2)\n",
      "DEBUG flwr 2024-05-11 18:38:52,611 | server.py:236 | fit_round 23 received 2 results and 0 failures\n",
      "DEBUG flwr 2024-05-11 18:38:52,613 | server.py:173 | evaluate_round 23: strategy sampled 2 clients (out of 2)\n",
      "DEBUG flwr 2024-05-11 18:38:52,618 | server.py:187 | evaluate_round 23 received 2 results and 0 failures\n",
      "DEBUG flwr 2024-05-11 18:38:52,619 | server.py:222 | fit_round 24: strategy sampled 2 clients (out of 2)\n",
      "DEBUG flwr 2024-05-11 18:38:52,633 | server.py:236 | fit_round 24 received 2 results and 0 failures\n",
      "DEBUG flwr 2024-05-11 18:38:52,634 | server.py:173 | evaluate_round 24: strategy sampled 2 clients (out of 2)\n",
      "DEBUG flwr 2024-05-11 18:38:52,639 | server.py:187 | evaluate_round 24 received 2 results and 0 failures\n",
      "DEBUG flwr 2024-05-11 18:38:52,640 | server.py:222 | fit_round 25: strategy sampled 2 clients (out of 2)\n",
      "DEBUG flwr 2024-05-11 18:38:52,654 | server.py:236 | fit_round 25 received 2 results and 0 failures\n"
     ]
    },
    {
     "name": "stdout",
     "output_type": "stream",
     "text": [
      "[(460, {'train_accuracy': 0.7608695652173914}), (153, {'train_accuracy': 0.7450980392156863})]\n",
      "[(116, {'test_accuracy': 0.8362068965517241}), (39, {'test_accuracy': 0.7435897435897436})]\n",
      "[(460, {'train_accuracy': 0.7608695652173914}), (153, {'train_accuracy': 0.7450980392156863})]\n",
      "[(116, {'test_accuracy': 0.8362068965517241}), (39, {'test_accuracy': 0.7435897435897436})]\n",
      "[(460, {'train_accuracy': 0.7608695652173914}), (153, {'train_accuracy': 0.7450980392156863})]\n",
      "[(39, {'test_accuracy': 0.7435897435897436}), (116, {'test_accuracy': 0.8362068965517241})]\n",
      "[(460, {'train_accuracy': 0.758695652173913}), (153, {'train_accuracy': 0.7450980392156863})]\n",
      "[(116, {'test_accuracy': 0.8362068965517241}), (39, {'test_accuracy': 0.7435897435897436})]\n",
      "[(460, {'train_accuracy': 0.7608695652173914}), (153, {'train_accuracy': 0.7450980392156863})]\n",
      "[(116, {'test_accuracy': 0.8362068965517241}), (39, {'test_accuracy': 0.7435897435897436})]\n",
      "[(460, {'train_accuracy': 0.7608695652173914}), (153, {'train_accuracy': 0.7450980392156863})]\n",
      "[(39, {'test_accuracy': 0.7435897435897436}), (116, {'test_accuracy': 0.8362068965517241})]\n",
      "[(153, {'train_accuracy': 0.7450980392156863}), (460, {'train_accuracy': 0.7608695652173914})]\n",
      "[(39, {'test_accuracy': 0.7435897435897436}), (116, {'test_accuracy': 0.8362068965517241})]\n",
      "[(153, {'train_accuracy': 0.7450980392156863}), (460, {'train_accuracy': 0.7630434782608696})]\n",
      "[(39, {'test_accuracy': 0.7435897435897436}), (116, {'test_accuracy': 0.8362068965517241})]\n",
      "[(460, {'train_accuracy': 0.7608695652173914}), (153, {'train_accuracy': 0.7450980392156863})]\n",
      "[(39, {'test_accuracy': 0.7435897435897436}), (116, {'test_accuracy': 0.8362068965517241})]\n"
     ]
    },
    {
     "name": "stderr",
     "output_type": "stream",
     "text": [
      "DEBUG flwr 2024-05-11 18:38:52,655 | server.py:173 | evaluate_round 25: strategy sampled 2 clients (out of 2)\n",
      "DEBUG flwr 2024-05-11 18:38:52,660 | server.py:187 | evaluate_round 25 received 2 results and 0 failures\n",
      "INFO flwr 2024-05-11 18:38:52,661 | server.py:153 | FL finished in 2.167096200000003\n",
      "INFO flwr 2024-05-11 18:38:52,661 | app.py:226 | app_fit: losses_distributed [(1, 0.4087242914784339), (2, 0.41077981975770766), (3, 0.40812203711079015), (4, 0.40797937223988195), (5, 0.40796300903443367), (6, 0.4089928138640619), (7, 0.40837698328879574), (8, 0.4080380972354643), (9, 0.4097970885615195), (10, 0.40795972443396045), (11, 0.40826304304984307), (12, 0.4069517973930605), (13, 0.4080616581824518), (14, 0.4079488258207998), (15, 0.40792077202950755), (16, 0.40804747131563), (17, 0.40952466668621185), (18, 0.40806907530753844), (19, 0.4079148913583448), (20, 0.4078560648425933), (21, 0.4079351346338949), (22, 0.407950859877371), (23, 0.40761699984150546), (24, 0.4073503050111955), (25, 0.4079141916767243)]\n",
      "INFO flwr 2024-05-11 18:38:52,662 | app.py:227 | app_fit: metrics_distributed_fit {'train_accuracy': [(1, 0.7536704730831973), (2, 0.7569331158238173), (3, 0.7569331158238173), (4, 0.7569331158238173), (5, 0.7569331158238173), (6, 0.7585644371941273), (7, 0.7569331158238173), (8, 0.7569331158238173), (9, 0.7569331158238173), (10, 0.7569331158238173), (11, 0.7569331158238173), (12, 0.7585644371941273), (13, 0.7569331158238173), (14, 0.7569331158238173), (15, 0.7569331158238173), (16, 0.7569331158238173), (17, 0.7569331158238173), (18, 0.7569331158238173), (19, 0.7553017944535073), (20, 0.7569331158238173), (21, 0.7569331158238173), (22, 0.7569331158238173), (23, 0.7585644371941273), (24, 0.7569331158238173), (25, 0.7569331158238173)]}\n",
      "INFO flwr 2024-05-11 18:38:52,663 | app.py:228 | app_fit: metrics_distributed {'test_accuracy': [(1, 0.8129032258064516), (2, 0.8129032258064516), (3, 0.8129032258064516), (4, 0.8129032258064516), (5, 0.8129032258064516), (6, 0.8129032258064516), (7, 0.8129032258064516), (8, 0.8129032258064516), (9, 0.8129032258064516), (10, 0.8129032258064516), (11, 0.8129032258064516), (12, 0.8129032258064516), (13, 0.8129032258064516), (14, 0.8129032258064516), (15, 0.8129032258064516), (16, 0.8129032258064516), (17, 0.8129032258064516), (18, 0.8129032258064516), (19, 0.8129032258064516), (20, 0.8129032258064516), (21, 0.8129032258064516), (22, 0.8129032258064516), (23, 0.8129032258064516), (24, 0.8129032258064516), (25, 0.8129032258064516)]}\n",
      "INFO flwr 2024-05-11 18:38:52,663 | app.py:229 | app_fit: losses_centralized []\n",
      "INFO flwr 2024-05-11 18:38:52,663 | app.py:230 | app_fit: metrics_centralized {}\n"
     ]
    },
    {
     "name": "stdout",
     "output_type": "stream",
     "text": [
      "[(153, {'train_accuracy': 0.7450980392156863}), (460, {'train_accuracy': 0.7608695652173914})]\n",
      "[(116, {'test_accuracy': 0.8362068965517241}), (39, {'test_accuracy': 0.7435897435897436})]\n"
     ]
    }
   ],
   "source": [
    "import flwr as fl\n",
    "import utils\n",
    "from sklearn.linear_model import LogisticRegression\n",
    "\n",
    "\n",
    "# Start Flower server for five rounds of federated learning\n",
    "if __name__ == \"__main__\":\n",
    "    model = LogisticRegression()\n",
    "    utils.set_initial_params(model, n_classes=2, n_features=30)\n",
    "    strategy = fl.server.strategy.FedAvg(\n",
    "        min_available_clients=2,\n",
    "        fit_metrics_aggregation_fn=utils.weighted_average,\n",
    "        evaluate_metrics_aggregation_fn=utils.weighted_average,\n",
    "    )\n",
    "    fl.server.start_server(\n",
    "        server_address=\"127.0.0.1:8080\",\n",
    "        strategy=strategy,\n",
    "        config=fl.server.ServerConfig(num_rounds=25),\n",
    "    )"
   ]
  }
 ],
 "metadata": {
  "kernelspec": {
   "display_name": "tf",
   "language": "python",
   "name": "python3"
  },
  "language_info": {
   "codemirror_mode": {
    "name": "ipython",
    "version": 3
   },
   "file_extension": ".py",
   "mimetype": "text/x-python",
   "name": "python",
   "nbconvert_exporter": "python",
   "pygments_lexer": "ipython3",
   "version": "3.9.17"
  }
 },
 "nbformat": 4,
 "nbformat_minor": 2
}
