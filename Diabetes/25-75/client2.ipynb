{
 "cells": [
  {
   "cell_type": "code",
   "execution_count": 1,
   "metadata": {},
   "outputs": [
    {
     "name": "stdout",
     "output_type": "stream",
     "text": [
      "   Unnamed: 0  Pregnancies  Glucose  BloodPressure  SkinThickness  Insulin  \\\n",
      "0         192            7      159             66              0        0   \n",
      "1         193           11      135              0              0        0   \n",
      "2         194            8       85             55             20        0   \n",
      "3         195            5      158             84             41      210   \n",
      "4         196            1      105             58              0        0   \n",
      "\n",
      "    BMI  DiabetesPedigreeFunction  Age  Outcome  \n",
      "0  30.4                     0.383   36        1  \n",
      "1  52.3                     0.578   40        1  \n",
      "2  24.4                     0.136   42        0  \n",
      "3  39.4                     0.395   29        1  \n",
      "4  24.3                     0.187   21        0  \n"
     ]
    }
   ],
   "source": [
    "# Import necessary libraries\n",
    "import pandas as pd\n",
    "import seaborn as sns\n",
    "import matplotlib.pyplot as plt\n",
    "\n",
    "# Load the dataset\n",
    "pima = pd.read_csv(\"./cl2.csv\")\n",
    "print(pima.head())"
   ]
  },
  {
   "cell_type": "code",
   "execution_count": 2,
   "metadata": {},
   "outputs": [],
   "source": [
    "# Split the data into features (X) and target variable (y)\n",
    "X = pima.drop(columns='Outcome')\n",
    "y = pima['Outcome']"
   ]
  },
  {
   "cell_type": "code",
   "execution_count": 3,
   "metadata": {},
   "outputs": [
    {
     "name": "stdout",
     "output_type": "stream",
     "text": [
      "Number of negative cases:  377 (65.45%)\n",
      "Number of positve cases:  199 (34.55%)\n"
     ]
    }
   ],
   "source": [
    "# Number of negative and positive cases in the data\n",
    "num_obs = len(pima)\n",
    "negative = len(pima.loc[pima['Outcome'] == 0])\n",
    "positive = len(pima.loc[pima['Outcome'] == 1])\n",
    "print(\"Number of negative cases:  {0} ({1:2.2f}%)\".format(negative, ((1.00 * negative)/(1.0 * num_obs)) * 100))\n",
    "print(\"Number of positve cases:  {0} ({1:2.2f}%)\".format(positive, ((1.00 * positive)/(1.0 * num_obs)) * 100))"
   ]
  },
  {
   "cell_type": "code",
   "execution_count": 4,
   "metadata": {},
   "outputs": [],
   "source": [
    "# Split xscale\n",
    "from sklearn.model_selection import train_test_split\n",
    "X_train, X_test, y_train, y_test = train_test_split(X, y, test_size= 0.2, random_state = 0) "
   ]
  },
  {
   "cell_type": "code",
   "execution_count": 5,
   "metadata": {},
   "outputs": [
    {
     "name": "stdout",
     "output_type": "stream",
     "text": [
      "Confusion Matrix: \n",
      " [[73 11]\n",
      " [15 17]]\n",
      "              precision    recall  f1-score   support\n",
      "\n",
      "           0       0.83      0.87      0.85        84\n",
      "           1       0.61      0.53      0.57        32\n",
      "\n",
      "    accuracy                           0.78       116\n",
      "   macro avg       0.72      0.70      0.71       116\n",
      "weighted avg       0.77      0.78      0.77       116\n",
      "\n"
     ]
    },
    {
     "name": "stderr",
     "output_type": "stream",
     "text": [
      "c:\\Users\\fafaf\\anaconda3\\envs\\tf\\lib\\site-packages\\sklearn\\linear_model\\_logistic.py:444: ConvergenceWarning: lbfgs failed to converge (status=1):\n",
      "STOP: TOTAL NO. of ITERATIONS REACHED LIMIT.\n",
      "\n",
      "Increase the number of iterations (max_iter) or scale the data as shown in:\n",
      "    https://scikit-learn.org/stable/modules/preprocessing.html\n",
      "Please also refer to the documentation for alternative solver options:\n",
      "    https://scikit-learn.org/stable/modules/linear_model.html#logistic-regression\n",
      "  n_iter_i = _check_optimize_result(\n"
     ]
    }
   ],
   "source": [
    "from sklearn.linear_model import LogisticRegression\n",
    "from sklearn.metrics import confusion_matrix, classification_report\n",
    "\n",
    "  #L500\n",
    "  #----------------------------------------------\n",
    "LR = LogisticRegression()\n",
    "LR.fit(X_train, y_train)\n",
    "yhatLR = LR.predict(X_test)\n",
    "print(\"Confusion Matrix: \\n\", confusion_matrix(y_test, yhatLR))\n",
    "print(classification_report(y_test, yhatLR))\n"
   ]
  },
  {
   "cell_type": "code",
   "execution_count": 5,
   "metadata": {},
   "outputs": [
    {
     "name": "stdout",
     "output_type": "stream",
     "text": [
      "Original negative : 377 (65.45%)\n",
      "Original positive : 199 (34.55%)\n",
      "\n",
      "Training negative : 293 (63.70%)\n",
      "Training positive : 167 (36.30%)\n",
      "\n",
      "Test negative     : 84 (72.41%)\n",
      "Test positive     : 32 (27.59%)\n"
     ]
    }
   ],
   "source": [
    "# Number of each case in the data training and testing\n",
    "print(\"Original negative : {0} ({1:0.2f}%)\".format(len(pima.loc[pima['Outcome'] == 0]), (len(pima.loc[pima['Outcome'] == 0])/len(pima.index)) * 100.0))\n",
    "print(\"Original positive : {0} ({1:0.2f}%)\".format(len(pima.loc[pima['Outcome'] == 1]), (len(pima.loc[pima['Outcome'] == 1])/len(pima.index)) * 100.0))\n",
    "print(\"\")\n",
    "print(\"Training negative : {0} ({1:0.2f}%)\".format(len(y_train[y_train[:] == 0]), (len(y_train[y_train[:] == 0])/len(y_train) * 100.0)))\n",
    "print(\"Training positive : {0} ({1:0.2f}%)\".format(len(y_train[y_train[:] == 1]), (len(y_train[y_train[:] == 1])/len(y_train) * 100.0)))\n",
    "print(\"\")\n",
    "print(\"Test negative     : {0} ({1:0.2f}%)\".format(len(y_test[y_test[:] == 0]), (len(y_test[y_test[:] == 0])/len(y_test) * 100.0)))\n",
    "print(\"Test positive     : {0} ({1:0.2f}%)\".format(len(y_test[y_test[:] == 1]), (len(y_test[y_test[:] == 1])/len(y_test) * 100.0)))"
   ]
  },
  {
   "cell_type": "code",
   "execution_count": 6,
   "metadata": {},
   "outputs": [],
   "source": [
    "from sklearn.metrics import confusion_matrix\n",
    "import math\n",
    "def evaluate(Y_true, Y_predict):\n",
    "    tn, fp, fn, tp = confusion_matrix(Y_true,Y_predict).ravel()\n",
    "    acc = (tp +tn)/ (tp + tn + fn + fp)\n",
    "    precision = tp / (tp + fp)\n",
    "    recall = tp / (tp + fn)\n",
    "    f1_score = (2*tp)/(2*tp + fp + fn)\n",
    "    specificity = tn / (fp + tn) \n",
    "    MCC = ((tp*tn) - (fp*fn)) / math.sqrt((tp + fp)*(tp + fn)*(tn + fp)*(tn + fn))\n",
    "    return acc, precision, recall, f1_score, specificity, MCC"
   ]
  },
  {
   "cell_type": "code",
   "execution_count": 7,
   "metadata": {},
   "outputs": [],
   "source": [
    "from sklearn.linear_model import LogisticRegression\n",
    "\n",
    "def Diabetes(output = ['Outcome']):\n",
    "\n",
    "  #LR\n",
    "  #----------------------------------------------\n",
    "  LR = LogisticRegression()\n",
    "  LR.fit(X_train, y_train)\n",
    "  yhatLR = LR.predict(X_test)\n",
    "\n",
    "  acc, precision, recall, f1_score, specificity, MCC = evaluate(y_test, yhatLR)\n",
    "  print(output, ' LR      acc:  {:.04f}    precision:   {:.04f}    recall :   {:.04f}   f1_score:   {:.04f}  specificity:   {:.04f}  MCC:   {:.04f}'.format(acc, precision, recall, f1_score, specificity, MCC))\n",
    "\n",
    "  return LR, yhatLR\n"
   ]
  },
  {
   "cell_type": "code",
   "execution_count": 8,
   "metadata": {},
   "outputs": [
    {
     "name": "stdout",
     "output_type": "stream",
     "text": [
      "['Outcome']  LR      acc:  0.7759    precision:   0.6071    recall :   0.5312   f1_score:   0.5667  specificity:   0.8690  MCC:   0.4181\n",
      "------------\n"
     ]
    },
    {
     "name": "stderr",
     "output_type": "stream",
     "text": [
      "c:\\Users\\fafaf\\anaconda3\\envs\\tf\\lib\\site-packages\\sklearn\\linear_model\\_logistic.py:444: ConvergenceWarning: lbfgs failed to converge (status=1):\n",
      "STOP: TOTAL NO. of ITERATIONS REACHED LIMIT.\n",
      "\n",
      "Increase the number of iterations (max_iter) or scale the data as shown in:\n",
      "    https://scikit-learn.org/stable/modules/preprocessing.html\n",
      "Please also refer to the documentation for alternative solver options:\n",
      "    https://scikit-learn.org/stable/modules/linear_model.html#logistic-regression\n",
      "  n_iter_i = _check_optimize_result(\n"
     ]
    }
   ],
   "source": [
    "Diabetes(output = ['Outcome'])\n",
    "print('------------')"
   ]
  },
  {
   "cell_type": "code",
   "execution_count": 9,
   "metadata": {},
   "outputs": [
    {
     "name": "stdout",
     "output_type": "stream",
     "text": [
      "['Outcome']  LR      acc:  0.7759    precision:   0.6071    recall :   0.5312   f1_score:   0.5667  specificity:   0.8690  MCC:   0.4181\n"
     ]
    },
    {
     "name": "stderr",
     "output_type": "stream",
     "text": [
      "c:\\Users\\fafaf\\anaconda3\\envs\\tf\\lib\\site-packages\\sklearn\\linear_model\\_logistic.py:444: ConvergenceWarning: lbfgs failed to converge (status=1):\n",
      "STOP: TOTAL NO. of ITERATIONS REACHED LIMIT.\n",
      "\n",
      "Increase the number of iterations (max_iter) or scale the data as shown in:\n",
      "    https://scikit-learn.org/stable/modules/preprocessing.html\n",
      "Please also refer to the documentation for alternative solver options:\n",
      "    https://scikit-learn.org/stable/modules/linear_model.html#logistic-regression\n",
      "  n_iter_i = _check_optimize_result(\n"
     ]
    },
    {
     "data": {
      "image/png": "[encoded data removed]",
      "text/plain": [
       "<Figure size 700x500 with 2 Axes>"
      ]
     },
     "metadata": {},
     "output_type": "display_data"
    }
   ],
   "source": [
    "# Call the function\n",
    "LR, yhatLR = Diabetes()\n",
    "\n",
    "# Compute confusion matrix\n",
    "cnf_matrix = confusion_matrix(y_test, yhatLR)\n",
    "\n",
    "# Plot confusion matrix using seaborn\n",
    "plt.figure(figsize=(7,5))\n",
    "sns.heatmap(cnf_matrix, annot=True, fmt='d', cmap='Blues', cbar=True)\n",
    "\n",
    "# Set labels\n",
    "plt.title('Confusion Matrix', fontsize=14)\n",
    "plt.xlabel('Predicted')\n",
    "plt.ylabel('Truth')\n",
    "plt.show()"
   ]
  },
  {
   "cell_type": "code",
   "execution_count": 10,
   "metadata": {},
   "outputs": [
    {
     "name": "stdout",
     "output_type": "stream",
     "text": [
      "Confusion Matrix: \n",
      " [[252  41]\n",
      " [ 91  76]]\n",
      "              precision    recall  f1-score   support\n",
      "\n",
      "           0       0.73      0.86      0.79       293\n",
      "           1       0.65      0.46      0.54       167\n",
      "\n",
      "    accuracy                           0.71       460\n",
      "   macro avg       0.69      0.66      0.66       460\n",
      "weighted avg       0.70      0.71      0.70       460\n",
      "\n"
     ]
    }
   ],
   "source": [
    "# training acc\n",
    "from sklearn.metrics import confusion_matrix, classification_report\n",
    "predictions1 = LR.predict(X_train)\n",
    "print(\"Confusion Matrix: \\n\", confusion_matrix(y_train, predictions1))\n",
    "print(classification_report(y_train, predictions1))"
   ]
  },
  {
   "cell_type": "code",
   "execution_count": 11,
   "metadata": {},
   "outputs": [],
   "source": [
    "model = LogisticRegression(warm_start=True)"
   ]
  },
  {
   "cell_type": "code",
   "execution_count": 12,
   "metadata": {},
   "outputs": [],
   "source": [
    "import utils\n",
    "utils.set_initial_params(model, n_features=X_train.shape[1], n_classes=2)"
   ]
  },
  {
   "cell_type": "code",
   "execution_count": 18,
   "metadata": {},
   "outputs": [
    {
     "name": "stderr",
     "output_type": "stream",
     "text": [
      "INFO flwr 2024-05-11 18:38:50,478 | grpc.py:52 | Opened insecure gRPC connection (no certificates were passed)\n",
      "DEBUG flwr 2024-05-11 18:38:50,489 | connection.py:55 | ChannelConnectivity.IDLE\n",
      "DEBUG flwr 2024-05-11 18:38:50,491 | connection.py:55 | ChannelConnectivity.READY\n"
     ]
    },
    {
     "name": "stderr",
     "output_type": "stream",
     "text": [
      "DEBUG flwr 2024-05-11 18:38:52,666 | connection.py:220 | gRPC channel closed\n",
      "INFO flwr 2024-05-11 18:38:52,667 | app.py:398 | Disconnect and shut down\n"
     ]
    }
   ],
   "source": [
    "import flwr as fl\n",
    "import warnings\n",
    "from sklearn.metrics import log_loss\n",
    "\n",
    "class IrisClient(fl.client.NumPyClient):\n",
    "        def get_parameters(self, config):  # type: ignore\n",
    "            return utils.get_model_parameters(model)\n",
    "\n",
    "        def fit(self, parameters, config):  # type: ignore\n",
    "            utils.set_model_params(model, parameters)\n",
    "            # Ignore convergence failure due to low local epochs\n",
    "            with warnings.catch_warnings():\n",
    "                warnings.simplefilter(\"ignore\")\n",
    "                model.fit(X_train, y_train)\n",
    "            accuracy = model.score(X_train, y_train)\n",
    "            return (\n",
    "                utils.get_model_parameters(model),\n",
    "                len(X_train),\n",
    "                {\"train_accuracy\": accuracy},\n",
    "            )\n",
    "\n",
    "        def evaluate(self, parameters, config):  # type: ignore\n",
    "            utils.set_model_params(model, parameters)\n",
    "            loss = log_loss(y_test, model.predict_proba(X_test))\n",
    "            accuracy = model.score(X_test, y_test)\n",
    "            return loss, len(X_test), {\"test_accuracy\": accuracy}\n",
    "\n",
    "    # Start Flower client\n",
    "fl.client.start_client(\n",
    "    server_address=\"127.0.0.1:8080\", client=IrisClient().to_client()\n",
    ")"
   ]
  },
  {
   "cell_type": "code",
   "execution_count": 19,
   "metadata": {},
   "outputs": [
    {
     "name": "stdout",
     "output_type": "stream",
     "text": [
      "Confusion Matrix: \n",
      " [[73 11]\n",
      " [ 8 24]]\n",
      "              precision    recall  f1-score   support\n",
      "\n",
      "           0       0.90      0.87      0.88        84\n",
      "           1       0.69      0.75      0.72        32\n",
      "\n",
      "    accuracy                           0.84       116\n",
      "   macro avg       0.79      0.81      0.80       116\n",
      "weighted avg       0.84      0.84      0.84       116\n",
      "\n"
     ]
    }
   ],
   "source": [
    "from sklearn.metrics import confusion_matrix, classification_report\n",
    "predictions1 = model.predict(X_test)\n",
    "print(\"Confusion Matrix: \\n\", confusion_matrix(y_test, predictions1))\n",
    "print(classification_report(y_test, predictions1))"
   ]
  },
  {
   "cell_type": "code",
   "execution_count": 20,
   "metadata": {},
   "outputs": [
    {
     "name": "stdout",
     "output_type": "stream",
     "text": [
      "Confusion Matrix: \n",
      " [[258  35]\n",
      " [ 78  89]]\n",
      "              precision    recall  f1-score   support\n",
      "\n",
      "           0       0.77      0.88      0.82       293\n",
      "           1       0.72      0.53      0.61       167\n",
      "\n",
      "    accuracy                           0.75       460\n",
      "   macro avg       0.74      0.71      0.72       460\n",
      "weighted avg       0.75      0.75      0.74       460\n",
      "\n"
     ]
    }
   ],
   "source": [
    "# training acc after fed\n",
    "predictions1 = model.predict(X_train)\n",
    "print(\"Confusion Matrix: \\n\", confusion_matrix(y_train, predictions1))\n",
    "print(classification_report(y_train, predictions1))"
   ]
  }
 ],
 "metadata": {
  "kernelspec": {
   "display_name": "tf",
   "language": "python",
   "name": "python3"
  },
  "language_info": {
   "codemirror_mode": {
    "name": "ipython",
    "version": 3
   },
   "file_extension": ".py",
   "mimetype": "text/x-python",
   "name": "python",
   "nbconvert_exporter": "python",
   "pygments_lexer": "ipython3",
   "version": "3.9.17"
  }
 },
 "nbformat": 4,
 "nbformat_minor": 2
}
